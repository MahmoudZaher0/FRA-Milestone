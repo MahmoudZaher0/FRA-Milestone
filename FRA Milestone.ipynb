{
 "cells": [
  {
   "cell_type": "markdown",
   "id": "3e0fe3e9",
   "metadata": {
    "id": "d9b8bfc4"
   },
   "source": [
    "# Problem Statement"
   ]
  },
  {
   "cell_type": "markdown",
   "id": "b8183c6c",
   "metadata": {
    "id": "5c5b1664"
   },
   "source": [
    "Businesses or companies can fall prey to default if they are not able to keep up their debt obligations. Defaults will lead to a lower credit rating for the company which in turn reduces its chances of getting credit in the future and may have to pay higher interests on existing debts as well as any new obligations. From an investor's point of view, he would want to invest in a company if it is capable of handling its financial obligations, can grow quickly, and is able to manage the growth scale.\n",
    "\n",
    "A balance sheet is a financial statement of a company that provides a snapshot of what a company owns, owes, and the amount invested by the shareholders. Thus, it is an important tool that helps evaluate the performance of a business.\n",
    "\n",
    "Data that is available includes information from the financial statement of the companies for the previous year (2015). Also, information about the Networth of the company in the following year (2016) is provided which can be used to drive the labeled field.\n",
    "\n",
    "Explanation of data fields available in Data Dictionary, 'Credit Default Data Dictionary.xlsx'\n"
   ]
  },
  {
   "cell_type": "markdown",
   "id": "ce0fc8ce",
   "metadata": {
    "id": "22374d9b"
   },
   "source": [
    "## Importing libraries "
   ]
  },
  {
   "cell_type": "code",
   "execution_count": 1,
   "id": "d77cb23e",
   "metadata": {
    "executionInfo": {
     "elapsed": 1791,
     "status": "ok",
     "timestamp": 1666494373840,
     "user": {
      "displayName": "Mahmoud Zaher",
      "userId": "15206995019557901263"
     },
     "user_tz": -120
    },
    "id": "27a75426"
   },
   "outputs": [],
   "source": [
    "import numpy as np\n",
    "import pandas as pd\n",
    "import matplotlib.pyplot as plt\n",
    "import seaborn as sns # for making plots with seaborn\n",
    "import sklearn\n",
    "color = sns.color_palette()\n",
    "import sklearn.metrics as mertics\n",
    "import scipy.stats as stats\n",
    "import sklearn.metrics as metrics\n",
    "import warnings\n",
    "warnings.filterwarnings('ignore')"
   ]
  },
  {
   "cell_type": "markdown",
   "id": "0a5eb0e7",
   "metadata": {
    "id": "8fdd1cfa"
   },
   "source": [
    "## Reading dataset"
   ]
  },
  {
   "cell_type": "code",
   "execution_count": 2,
   "id": "c5620092",
   "metadata": {
    "colab": {
     "base_uri": "https://localhost:8080/",
     "height": 311
    },
    "executionInfo": {
     "elapsed": 546,
     "status": "error",
     "timestamp": 1666469204580,
     "user": {
      "displayName": "G",
      "userId": "01280171820130591744"
     },
     "user_tz": -330
    },
    "id": "4b0847b7",
    "outputId": "5329acfe-f04d-4ead-b878-5b576aa530c3"
   },
   "outputs": [],
   "source": [
    "df = pd.read_excel('Company_Data2015-1.xlsx')"
   ]
  },
  {
   "cell_type": "code",
   "execution_count": 3,
   "id": "589fc66e",
   "metadata": {
    "id": "39abf209",
    "outputId": "8d916993-e021-4994-d71f-486ad9773c88"
   },
   "outputs": [
    {
     "data": {
      "text/html": [
       "<div>\n",
       "<style scoped>\n",
       "    .dataframe tbody tr th:only-of-type {\n",
       "        vertical-align: middle;\n",
       "    }\n",
       "\n",
       "    .dataframe tbody tr th {\n",
       "        vertical-align: top;\n",
       "    }\n",
       "\n",
       "    .dataframe thead th {\n",
       "        text-align: right;\n",
       "    }\n",
       "</style>\n",
       "<table border=\"1\" class=\"dataframe\">\n",
       "  <thead>\n",
       "    <tr style=\"text-align: right;\">\n",
       "      <th></th>\n",
       "      <th>Co_Code</th>\n",
       "      <th>Co_Name</th>\n",
       "      <th>Networth Next Year</th>\n",
       "      <th>Equity Paid Up</th>\n",
       "      <th>Networth</th>\n",
       "      <th>Capital Employed</th>\n",
       "      <th>Total Debt</th>\n",
       "      <th>Gross Block</th>\n",
       "      <th>Net Working Capital</th>\n",
       "      <th>Current Assets</th>\n",
       "      <th>...</th>\n",
       "      <th>PBIDTM (%)[Latest]</th>\n",
       "      <th>PBITM (%)[Latest]</th>\n",
       "      <th>PBDTM (%)[Latest]</th>\n",
       "      <th>CPM (%)[Latest]</th>\n",
       "      <th>APATM (%)[Latest]</th>\n",
       "      <th>Debtors Velocity (Days)</th>\n",
       "      <th>Creditors Velocity (Days)</th>\n",
       "      <th>Inventory Velocity (Days)</th>\n",
       "      <th>Value of Output/Total Assets</th>\n",
       "      <th>Value of Output/Gross Block</th>\n",
       "    </tr>\n",
       "  </thead>\n",
       "  <tbody>\n",
       "    <tr>\n",
       "      <th>0</th>\n",
       "      <td>16974</td>\n",
       "      <td>Hind.Cables</td>\n",
       "      <td>-8021.60</td>\n",
       "      <td>419.36</td>\n",
       "      <td>-7027.48</td>\n",
       "      <td>-1007.24</td>\n",
       "      <td>5936.03</td>\n",
       "      <td>474.30</td>\n",
       "      <td>-1076.34</td>\n",
       "      <td>40.50</td>\n",
       "      <td>...</td>\n",
       "      <td>0.00</td>\n",
       "      <td>0.00</td>\n",
       "      <td>0.00</td>\n",
       "      <td>0.00</td>\n",
       "      <td>0.00</td>\n",
       "      <td>0</td>\n",
       "      <td>0</td>\n",
       "      <td>45.0</td>\n",
       "      <td>0.00</td>\n",
       "      <td>0.00</td>\n",
       "    </tr>\n",
       "    <tr>\n",
       "      <th>1</th>\n",
       "      <td>21214</td>\n",
       "      <td>Tata Tele. Mah.</td>\n",
       "      <td>-3986.19</td>\n",
       "      <td>1954.93</td>\n",
       "      <td>-2968.08</td>\n",
       "      <td>4458.20</td>\n",
       "      <td>7410.18</td>\n",
       "      <td>9070.86</td>\n",
       "      <td>-1098.88</td>\n",
       "      <td>486.86</td>\n",
       "      <td>...</td>\n",
       "      <td>-10.30</td>\n",
       "      <td>-39.74</td>\n",
       "      <td>-57.74</td>\n",
       "      <td>-57.74</td>\n",
       "      <td>-87.18</td>\n",
       "      <td>29</td>\n",
       "      <td>101</td>\n",
       "      <td>2.0</td>\n",
       "      <td>0.31</td>\n",
       "      <td>0.24</td>\n",
       "    </tr>\n",
       "    <tr>\n",
       "      <th>2</th>\n",
       "      <td>14852</td>\n",
       "      <td>ABG Shipyard</td>\n",
       "      <td>-3192.58</td>\n",
       "      <td>53.84</td>\n",
       "      <td>506.86</td>\n",
       "      <td>7714.68</td>\n",
       "      <td>6944.54</td>\n",
       "      <td>1281.54</td>\n",
       "      <td>4496.25</td>\n",
       "      <td>9097.64</td>\n",
       "      <td>...</td>\n",
       "      <td>-5279.14</td>\n",
       "      <td>-5516.98</td>\n",
       "      <td>-7780.25</td>\n",
       "      <td>-7723.67</td>\n",
       "      <td>-7961.51</td>\n",
       "      <td>97</td>\n",
       "      <td>558</td>\n",
       "      <td>0.0</td>\n",
       "      <td>-0.03</td>\n",
       "      <td>-0.26</td>\n",
       "    </tr>\n",
       "    <tr>\n",
       "      <th>3</th>\n",
       "      <td>2439</td>\n",
       "      <td>GTL</td>\n",
       "      <td>-3054.51</td>\n",
       "      <td>157.30</td>\n",
       "      <td>-623.49</td>\n",
       "      <td>2353.88</td>\n",
       "      <td>2326.05</td>\n",
       "      <td>1033.69</td>\n",
       "      <td>-2612.42</td>\n",
       "      <td>1034.12</td>\n",
       "      <td>...</td>\n",
       "      <td>-3.33</td>\n",
       "      <td>-7.21</td>\n",
       "      <td>-48.13</td>\n",
       "      <td>-47.70</td>\n",
       "      <td>-51.58</td>\n",
       "      <td>93</td>\n",
       "      <td>63</td>\n",
       "      <td>2.0</td>\n",
       "      <td>0.24</td>\n",
       "      <td>1.90</td>\n",
       "    </tr>\n",
       "    <tr>\n",
       "      <th>4</th>\n",
       "      <td>23505</td>\n",
       "      <td>Bharati Defence</td>\n",
       "      <td>-2967.36</td>\n",
       "      <td>50.30</td>\n",
       "      <td>-1070.83</td>\n",
       "      <td>4675.33</td>\n",
       "      <td>5740.90</td>\n",
       "      <td>1084.20</td>\n",
       "      <td>1836.23</td>\n",
       "      <td>4685.81</td>\n",
       "      <td>...</td>\n",
       "      <td>-295.55</td>\n",
       "      <td>-400.55</td>\n",
       "      <td>-845.88</td>\n",
       "      <td>379.79</td>\n",
       "      <td>274.79</td>\n",
       "      <td>3887</td>\n",
       "      <td>346</td>\n",
       "      <td>0.0</td>\n",
       "      <td>0.01</td>\n",
       "      <td>0.05</td>\n",
       "    </tr>\n",
       "  </tbody>\n",
       "</table>\n",
       "<p>5 rows × 67 columns</p>\n",
       "</div>"
      ],
      "text/plain": [
       "   Co_Code          Co_Name  Networth Next Year  Equity Paid Up  Networth  \\\n",
       "0    16974      Hind.Cables            -8021.60          419.36  -7027.48   \n",
       "1    21214  Tata Tele. Mah.            -3986.19         1954.93  -2968.08   \n",
       "2    14852     ABG Shipyard            -3192.58           53.84    506.86   \n",
       "3     2439              GTL            -3054.51          157.30   -623.49   \n",
       "4    23505  Bharati Defence            -2967.36           50.30  -1070.83   \n",
       "\n",
       "   Capital Employed  Total Debt  Gross Block   Net Working Capital   \\\n",
       "0          -1007.24     5936.03        474.30              -1076.34   \n",
       "1           4458.20     7410.18       9070.86              -1098.88   \n",
       "2           7714.68     6944.54       1281.54               4496.25   \n",
       "3           2353.88     2326.05       1033.69              -2612.42   \n",
       "4           4675.33     5740.90       1084.20               1836.23   \n",
       "\n",
       "   Current Assets   ...  PBIDTM (%)[Latest]  PBITM (%)[Latest]  \\\n",
       "0            40.50  ...                0.00               0.00   \n",
       "1           486.86  ...              -10.30             -39.74   \n",
       "2          9097.64  ...            -5279.14           -5516.98   \n",
       "3          1034.12  ...               -3.33              -7.21   \n",
       "4          4685.81  ...             -295.55            -400.55   \n",
       "\n",
       "   PBDTM (%)[Latest]  CPM (%)[Latest]  APATM (%)[Latest]  \\\n",
       "0               0.00             0.00               0.00   \n",
       "1             -57.74           -57.74             -87.18   \n",
       "2           -7780.25         -7723.67           -7961.51   \n",
       "3             -48.13           -47.70             -51.58   \n",
       "4            -845.88           379.79             274.79   \n",
       "\n",
       "   Debtors Velocity (Days)  Creditors Velocity (Days)  \\\n",
       "0                        0                          0   \n",
       "1                       29                        101   \n",
       "2                       97                        558   \n",
       "3                       93                         63   \n",
       "4                     3887                        346   \n",
       "\n",
       "   Inventory Velocity (Days)  Value of Output/Total Assets  \\\n",
       "0                       45.0                          0.00   \n",
       "1                        2.0                          0.31   \n",
       "2                        0.0                         -0.03   \n",
       "3                        2.0                          0.24   \n",
       "4                        0.0                          0.01   \n",
       "\n",
       "   Value of Output/Gross Block  \n",
       "0                         0.00  \n",
       "1                         0.24  \n",
       "2                        -0.26  \n",
       "3                         1.90  \n",
       "4                         0.05  \n",
       "\n",
       "[5 rows x 67 columns]"
      ]
     },
     "execution_count": 3,
     "metadata": {},
     "output_type": "execute_result"
    }
   ],
   "source": [
    "df.head()"
   ]
  },
  {
   "cell_type": "markdown",
   "id": "3e49383c",
   "metadata": {
    "id": "1b21492e"
   },
   "source": [
    "## Fixing messy column names (containing spaces)"
   ]
  },
  {
   "cell_type": "code",
   "execution_count": 4,
   "id": "0b0b258c",
   "metadata": {
    "id": "e589c55e"
   },
   "outputs": [],
   "source": [
    "df.columns = df.columns.str.strip().str.replace(' ', '_').str.replace('(', '').str.replace(')', '').str.replace('%', 'perc').str.replace('/','_by_').str.replace('&','and')"
   ]
  },
  {
   "cell_type": "markdown",
   "id": "08c0ec95",
   "metadata": {
    "id": "b23a1895"
   },
   "source": [
    " "
   ]
  },
  {
   "cell_type": "code",
   "execution_count": 5,
   "id": "416278e4",
   "metadata": {
    "id": "bc116e1e",
    "outputId": "894cc72d-2b87-47c4-f990-25a29e3a7998"
   },
   "outputs": [
    {
     "data": {
      "text/html": [
       "<div>\n",
       "<style scoped>\n",
       "    .dataframe tbody tr th:only-of-type {\n",
       "        vertical-align: middle;\n",
       "    }\n",
       "\n",
       "    .dataframe tbody tr th {\n",
       "        vertical-align: top;\n",
       "    }\n",
       "\n",
       "    .dataframe thead th {\n",
       "        text-align: right;\n",
       "    }\n",
       "</style>\n",
       "<table border=\"1\" class=\"dataframe\">\n",
       "  <thead>\n",
       "    <tr style=\"text-align: right;\">\n",
       "      <th></th>\n",
       "      <th>Co_Code</th>\n",
       "      <th>Co_Name</th>\n",
       "      <th>Networth_Next_Year</th>\n",
       "      <th>Equity_Paid_Up</th>\n",
       "      <th>Networth</th>\n",
       "      <th>Capital_Employed</th>\n",
       "      <th>Total_Debt</th>\n",
       "      <th>Gross_Block</th>\n",
       "      <th>Net_Working_Capital</th>\n",
       "      <th>Current_Assets</th>\n",
       "      <th>...</th>\n",
       "      <th>PBIDTM_perc[Latest]</th>\n",
       "      <th>PBITM_perc[Latest]</th>\n",
       "      <th>PBDTM_perc[Latest]</th>\n",
       "      <th>CPM_perc[Latest]</th>\n",
       "      <th>APATM_perc[Latest]</th>\n",
       "      <th>Debtors_Velocity_Days</th>\n",
       "      <th>Creditors_Velocity_Days</th>\n",
       "      <th>Inventory_Velocity_Days</th>\n",
       "      <th>Value_of_Output_by_Total_Assets</th>\n",
       "      <th>Value_of_Output_by_Gross_Block</th>\n",
       "    </tr>\n",
       "  </thead>\n",
       "  <tbody>\n",
       "    <tr>\n",
       "      <th>0</th>\n",
       "      <td>16974</td>\n",
       "      <td>Hind.Cables</td>\n",
       "      <td>-8021.60</td>\n",
       "      <td>419.36</td>\n",
       "      <td>-7027.48</td>\n",
       "      <td>-1007.24</td>\n",
       "      <td>5936.03</td>\n",
       "      <td>474.30</td>\n",
       "      <td>-1076.34</td>\n",
       "      <td>40.50</td>\n",
       "      <td>...</td>\n",
       "      <td>0.00</td>\n",
       "      <td>0.00</td>\n",
       "      <td>0.00</td>\n",
       "      <td>0.00</td>\n",
       "      <td>0.00</td>\n",
       "      <td>0</td>\n",
       "      <td>0</td>\n",
       "      <td>45.0</td>\n",
       "      <td>0.00</td>\n",
       "      <td>0.00</td>\n",
       "    </tr>\n",
       "    <tr>\n",
       "      <th>1</th>\n",
       "      <td>21214</td>\n",
       "      <td>Tata Tele. Mah.</td>\n",
       "      <td>-3986.19</td>\n",
       "      <td>1954.93</td>\n",
       "      <td>-2968.08</td>\n",
       "      <td>4458.20</td>\n",
       "      <td>7410.18</td>\n",
       "      <td>9070.86</td>\n",
       "      <td>-1098.88</td>\n",
       "      <td>486.86</td>\n",
       "      <td>...</td>\n",
       "      <td>-10.30</td>\n",
       "      <td>-39.74</td>\n",
       "      <td>-57.74</td>\n",
       "      <td>-57.74</td>\n",
       "      <td>-87.18</td>\n",
       "      <td>29</td>\n",
       "      <td>101</td>\n",
       "      <td>2.0</td>\n",
       "      <td>0.31</td>\n",
       "      <td>0.24</td>\n",
       "    </tr>\n",
       "    <tr>\n",
       "      <th>2</th>\n",
       "      <td>14852</td>\n",
       "      <td>ABG Shipyard</td>\n",
       "      <td>-3192.58</td>\n",
       "      <td>53.84</td>\n",
       "      <td>506.86</td>\n",
       "      <td>7714.68</td>\n",
       "      <td>6944.54</td>\n",
       "      <td>1281.54</td>\n",
       "      <td>4496.25</td>\n",
       "      <td>9097.64</td>\n",
       "      <td>...</td>\n",
       "      <td>-5279.14</td>\n",
       "      <td>-5516.98</td>\n",
       "      <td>-7780.25</td>\n",
       "      <td>-7723.67</td>\n",
       "      <td>-7961.51</td>\n",
       "      <td>97</td>\n",
       "      <td>558</td>\n",
       "      <td>0.0</td>\n",
       "      <td>-0.03</td>\n",
       "      <td>-0.26</td>\n",
       "    </tr>\n",
       "    <tr>\n",
       "      <th>3</th>\n",
       "      <td>2439</td>\n",
       "      <td>GTL</td>\n",
       "      <td>-3054.51</td>\n",
       "      <td>157.30</td>\n",
       "      <td>-623.49</td>\n",
       "      <td>2353.88</td>\n",
       "      <td>2326.05</td>\n",
       "      <td>1033.69</td>\n",
       "      <td>-2612.42</td>\n",
       "      <td>1034.12</td>\n",
       "      <td>...</td>\n",
       "      <td>-3.33</td>\n",
       "      <td>-7.21</td>\n",
       "      <td>-48.13</td>\n",
       "      <td>-47.70</td>\n",
       "      <td>-51.58</td>\n",
       "      <td>93</td>\n",
       "      <td>63</td>\n",
       "      <td>2.0</td>\n",
       "      <td>0.24</td>\n",
       "      <td>1.90</td>\n",
       "    </tr>\n",
       "    <tr>\n",
       "      <th>4</th>\n",
       "      <td>23505</td>\n",
       "      <td>Bharati Defence</td>\n",
       "      <td>-2967.36</td>\n",
       "      <td>50.30</td>\n",
       "      <td>-1070.83</td>\n",
       "      <td>4675.33</td>\n",
       "      <td>5740.90</td>\n",
       "      <td>1084.20</td>\n",
       "      <td>1836.23</td>\n",
       "      <td>4685.81</td>\n",
       "      <td>...</td>\n",
       "      <td>-295.55</td>\n",
       "      <td>-400.55</td>\n",
       "      <td>-845.88</td>\n",
       "      <td>379.79</td>\n",
       "      <td>274.79</td>\n",
       "      <td>3887</td>\n",
       "      <td>346</td>\n",
       "      <td>0.0</td>\n",
       "      <td>0.01</td>\n",
       "      <td>0.05</td>\n",
       "    </tr>\n",
       "  </tbody>\n",
       "</table>\n",
       "<p>5 rows × 67 columns</p>\n",
       "</div>"
      ],
      "text/plain": [
       "   Co_Code          Co_Name  Networth_Next_Year  Equity_Paid_Up  Networth  \\\n",
       "0    16974      Hind.Cables            -8021.60          419.36  -7027.48   \n",
       "1    21214  Tata Tele. Mah.            -3986.19         1954.93  -2968.08   \n",
       "2    14852     ABG Shipyard            -3192.58           53.84    506.86   \n",
       "3     2439              GTL            -3054.51          157.30   -623.49   \n",
       "4    23505  Bharati Defence            -2967.36           50.30  -1070.83   \n",
       "\n",
       "   Capital_Employed  Total_Debt  Gross_Block  Net_Working_Capital  \\\n",
       "0          -1007.24     5936.03       474.30             -1076.34   \n",
       "1           4458.20     7410.18      9070.86             -1098.88   \n",
       "2           7714.68     6944.54      1281.54              4496.25   \n",
       "3           2353.88     2326.05      1033.69             -2612.42   \n",
       "4           4675.33     5740.90      1084.20              1836.23   \n",
       "\n",
       "   Current_Assets  ...  PBIDTM_perc[Latest]  PBITM_perc[Latest]  \\\n",
       "0           40.50  ...                 0.00                0.00   \n",
       "1          486.86  ...               -10.30              -39.74   \n",
       "2         9097.64  ...             -5279.14            -5516.98   \n",
       "3         1034.12  ...                -3.33               -7.21   \n",
       "4         4685.81  ...              -295.55             -400.55   \n",
       "\n",
       "   PBDTM_perc[Latest]  CPM_perc[Latest]  APATM_perc[Latest]  \\\n",
       "0                0.00              0.00                0.00   \n",
       "1              -57.74            -57.74              -87.18   \n",
       "2            -7780.25          -7723.67            -7961.51   \n",
       "3              -48.13            -47.70              -51.58   \n",
       "4             -845.88            379.79              274.79   \n",
       "\n",
       "   Debtors_Velocity_Days  Creditors_Velocity_Days  Inventory_Velocity_Days  \\\n",
       "0                      0                        0                     45.0   \n",
       "1                     29                      101                      2.0   \n",
       "2                     97                      558                      0.0   \n",
       "3                     93                       63                      2.0   \n",
       "4                   3887                      346                      0.0   \n",
       "\n",
       "   Value_of_Output_by_Total_Assets  Value_of_Output_by_Gross_Block  \n",
       "0                             0.00                            0.00  \n",
       "1                             0.31                            0.24  \n",
       "2                            -0.03                           -0.26  \n",
       "3                             0.24                            1.90  \n",
       "4                             0.01                            0.05  \n",
       "\n",
       "[5 rows x 67 columns]"
      ]
     },
     "execution_count": 5,
     "metadata": {},
     "output_type": "execute_result"
    }
   ],
   "source": [
    "df.head()"
   ]
  },
  {
   "cell_type": "markdown",
   "id": "e4bf073a",
   "metadata": {
    "id": "5e07d0b9"
   },
   "source": [
    "## Check the counts of unique rows in df"
   ]
  },
  {
   "cell_type": "code",
   "execution_count": 6,
   "id": "7a9963a3",
   "metadata": {
    "id": "c2e17a33",
    "outputId": "d7dd1f0f-29c6-455c-d317-a0f7d6f982c5"
   },
   "outputs": [
    {
     "data": {
      "text/plain": [
       "float64    63\n",
       "int64       3\n",
       "object      1\n",
       "dtype: int64"
      ]
     },
     "execution_count": 6,
     "metadata": {},
     "output_type": "execute_result"
    }
   ],
   "source": [
    "df.dtypes.value_counts()"
   ]
  },
  {
   "cell_type": "markdown",
   "id": "3987ec41",
   "metadata": {
    "id": "a074fb3f"
   },
   "source": [
    "\n",
    "## Check the number of rows (observations) & number of columns (variables)"
   ]
  },
  {
   "cell_type": "code",
   "execution_count": 7,
   "id": "d1917c18",
   "metadata": {
    "id": "cfebae07",
    "outputId": "46872711-43ae-470f-affe-f638ab0ce16c"
   },
   "outputs": [
    {
     "name": "stdout",
     "output_type": "stream",
     "text": [
      "The number of rows (observations) is 3586 \n",
      "The number of columns (variables) is 67\n"
     ]
    }
   ],
   "source": [
    "print('The number of rows (observations) is',df.shape[0],'\\n''The number of columns (variables) is',df.shape[1])"
   ]
  },
  {
   "cell_type": "markdown",
   "id": "68811109",
   "metadata": {
    "id": "415af718"
   },
   "source": [
    "# Checking datatype of all columns"
   ]
  },
  {
   "cell_type": "code",
   "execution_count": 8,
   "id": "71719298",
   "metadata": {
    "id": "242ca425",
    "outputId": "dcf72e86-5f54-4cfa-f93b-0c8796b8f6fd"
   },
   "outputs": [
    {
     "name": "stdout",
     "output_type": "stream",
     "text": [
      "<class 'pandas.core.frame.DataFrame'>\n",
      "RangeIndex: 3586 entries, 0 to 3585\n",
      "Data columns (total 67 columns):\n",
      " #   Column                               Non-Null Count  Dtype  \n",
      "---  ------                               --------------  -----  \n",
      " 0   Co_Code                              3586 non-null   int64  \n",
      " 1   Co_Name                              3586 non-null   object \n",
      " 2   Networth_Next_Year                   3586 non-null   float64\n",
      " 3   Equity_Paid_Up                       3586 non-null   float64\n",
      " 4   Networth                             3586 non-null   float64\n",
      " 5   Capital_Employed                     3586 non-null   float64\n",
      " 6   Total_Debt                           3586 non-null   float64\n",
      " 7   Gross_Block                          3586 non-null   float64\n",
      " 8   Net_Working_Capital                  3586 non-null   float64\n",
      " 9   Current_Assets                       3586 non-null   float64\n",
      " 10  Current_Liabilities_and_Provisions   3586 non-null   float64\n",
      " 11  Total_Assets_by_Liabilities          3586 non-null   float64\n",
      " 12  Gross_Sales                          3586 non-null   float64\n",
      " 13  Net_Sales                            3586 non-null   float64\n",
      " 14  Other_Income                         3586 non-null   float64\n",
      " 15  Value_Of_Output                      3586 non-null   float64\n",
      " 16  Cost_of_Production                   3586 non-null   float64\n",
      " 17  Selling_Cost                         3586 non-null   float64\n",
      " 18  PBIDT                                3586 non-null   float64\n",
      " 19  PBDT                                 3586 non-null   float64\n",
      " 20  PBIT                                 3586 non-null   float64\n",
      " 21  PBT                                  3586 non-null   float64\n",
      " 22  PAT                                  3586 non-null   float64\n",
      " 23  Adjusted_PAT                         3586 non-null   float64\n",
      " 24  CP                                   3586 non-null   float64\n",
      " 25  Revenue_earnings_in_forex            3586 non-null   float64\n",
      " 26  Revenue_expenses_in_forex            3586 non-null   float64\n",
      " 27  Capital_expenses_in_forex            3586 non-null   float64\n",
      " 28  Book_Value_Unit_Curr                 3586 non-null   float64\n",
      " 29  Book_Value_Adj._Unit_Curr            3582 non-null   float64\n",
      " 30  Market_Capitalisation                3586 non-null   float64\n",
      " 31  CEPS_annualised_Unit_Curr            3586 non-null   float64\n",
      " 32  Cash_Flow_From_Operating_Activities  3586 non-null   float64\n",
      " 33  Cash_Flow_From_Investing_Activities  3586 non-null   float64\n",
      " 34  Cash_Flow_From_Financing_Activities  3586 non-null   float64\n",
      " 35  ROG-Net_Worth_perc                   3586 non-null   float64\n",
      " 36  ROG-Capital_Employed_perc            3586 non-null   float64\n",
      " 37  ROG-Gross_Block_perc                 3586 non-null   float64\n",
      " 38  ROG-Gross_Sales_perc                 3586 non-null   float64\n",
      " 39  ROG-Net_Sales_perc                   3586 non-null   float64\n",
      " 40  ROG-Cost_of_Production_perc          3586 non-null   float64\n",
      " 41  ROG-Total_Assets_perc                3586 non-null   float64\n",
      " 42  ROG-PBIDT_perc                       3586 non-null   float64\n",
      " 43  ROG-PBDT_perc                        3586 non-null   float64\n",
      " 44  ROG-PBIT_perc                        3586 non-null   float64\n",
      " 45  ROG-PBT_perc                         3586 non-null   float64\n",
      " 46  ROG-PAT_perc                         3586 non-null   float64\n",
      " 47  ROG-CP_perc                          3586 non-null   float64\n",
      " 48  ROG-Revenue_earnings_in_forex_perc   3586 non-null   float64\n",
      " 49  ROG-Revenue_expenses_in_forex_perc   3586 non-null   float64\n",
      " 50  ROG-Market_Capitalisation_perc       3586 non-null   float64\n",
      " 51  Current_Ratio[Latest]                3585 non-null   float64\n",
      " 52  Fixed_Assets_Ratio[Latest]           3585 non-null   float64\n",
      " 53  Inventory_Ratio[Latest]              3585 non-null   float64\n",
      " 54  Debtors_Ratio[Latest]                3585 non-null   float64\n",
      " 55  Total_Asset_Turnover_Ratio[Latest]   3585 non-null   float64\n",
      " 56  Interest_Cover_Ratio[Latest]         3585 non-null   float64\n",
      " 57  PBIDTM_perc[Latest]                  3585 non-null   float64\n",
      " 58  PBITM_perc[Latest]                   3585 non-null   float64\n",
      " 59  PBDTM_perc[Latest]                   3585 non-null   float64\n",
      " 60  CPM_perc[Latest]                     3585 non-null   float64\n",
      " 61  APATM_perc[Latest]                   3585 non-null   float64\n",
      " 62  Debtors_Velocity_Days                3586 non-null   int64  \n",
      " 63  Creditors_Velocity_Days              3586 non-null   int64  \n",
      " 64  Inventory_Velocity_Days              3483 non-null   float64\n",
      " 65  Value_of_Output_by_Total_Assets      3586 non-null   float64\n",
      " 66  Value_of_Output_by_Gross_Block       3586 non-null   float64\n",
      "dtypes: float64(63), int64(3), object(1)\n",
      "memory usage: 1.8+ MB\n"
     ]
    }
   ],
   "source": [
    "df.info()"
   ]
  },
  {
   "cell_type": "markdown",
   "id": "abaf45a4",
   "metadata": {
    "id": "5f3ea235"
   },
   "source": [
    "## check the basic measures of descriptive statistics for the continuous variables"
   ]
  },
  {
   "cell_type": "code",
   "execution_count": 9,
   "id": "1f8d311e",
   "metadata": {
    "id": "ec683e2a",
    "outputId": "4e80fd02-4b7b-4fab-d919-0cc786b30a84"
   },
   "outputs": [
    {
     "data": {
      "text/html": [
       "<div>\n",
       "<style scoped>\n",
       "    .dataframe tbody tr th:only-of-type {\n",
       "        vertical-align: middle;\n",
       "    }\n",
       "\n",
       "    .dataframe tbody tr th {\n",
       "        vertical-align: top;\n",
       "    }\n",
       "\n",
       "    .dataframe thead th {\n",
       "        text-align: right;\n",
       "    }\n",
       "</style>\n",
       "<table border=\"1\" class=\"dataframe\">\n",
       "  <thead>\n",
       "    <tr style=\"text-align: right;\">\n",
       "      <th></th>\n",
       "      <th>count</th>\n",
       "      <th>mean</th>\n",
       "      <th>std</th>\n",
       "      <th>min</th>\n",
       "      <th>25%</th>\n",
       "      <th>50%</th>\n",
       "      <th>75%</th>\n",
       "      <th>max</th>\n",
       "    </tr>\n",
       "  </thead>\n",
       "  <tbody>\n",
       "    <tr>\n",
       "      <th>Co_Code</th>\n",
       "      <td>3586.00</td>\n",
       "      <td>16065.39</td>\n",
       "      <td>19776.82</td>\n",
       "      <td>4.00</td>\n",
       "      <td>3029.25</td>\n",
       "      <td>6077.50</td>\n",
       "      <td>24269.50</td>\n",
       "      <td>72493.00</td>\n",
       "    </tr>\n",
       "    <tr>\n",
       "      <th>Networth_Next_Year</th>\n",
       "      <td>3586.00</td>\n",
       "      <td>725.05</td>\n",
       "      <td>4769.68</td>\n",
       "      <td>-8021.60</td>\n",
       "      <td>3.98</td>\n",
       "      <td>19.02</td>\n",
       "      <td>123.80</td>\n",
       "      <td>111729.10</td>\n",
       "    </tr>\n",
       "    <tr>\n",
       "      <th>Equity_Paid_Up</th>\n",
       "      <td>3586.00</td>\n",
       "      <td>62.97</td>\n",
       "      <td>778.76</td>\n",
       "      <td>0.00</td>\n",
       "      <td>3.75</td>\n",
       "      <td>8.29</td>\n",
       "      <td>19.52</td>\n",
       "      <td>42263.46</td>\n",
       "    </tr>\n",
       "    <tr>\n",
       "      <th>Networth</th>\n",
       "      <td>3586.00</td>\n",
       "      <td>649.75</td>\n",
       "      <td>4091.99</td>\n",
       "      <td>-7027.48</td>\n",
       "      <td>3.89</td>\n",
       "      <td>18.58</td>\n",
       "      <td>117.30</td>\n",
       "      <td>81657.35</td>\n",
       "    </tr>\n",
       "    <tr>\n",
       "      <th>Capital_Employed</th>\n",
       "      <td>3586.00</td>\n",
       "      <td>2799.61</td>\n",
       "      <td>26975.14</td>\n",
       "      <td>-1824.75</td>\n",
       "      <td>7.60</td>\n",
       "      <td>39.09</td>\n",
       "      <td>226.60</td>\n",
       "      <td>714001.25</td>\n",
       "    </tr>\n",
       "    <tr>\n",
       "      <th>...</th>\n",
       "      <td>...</td>\n",
       "      <td>...</td>\n",
       "      <td>...</td>\n",
       "      <td>...</td>\n",
       "      <td>...</td>\n",
       "      <td>...</td>\n",
       "      <td>...</td>\n",
       "      <td>...</td>\n",
       "    </tr>\n",
       "    <tr>\n",
       "      <th>Debtors_Velocity_Days</th>\n",
       "      <td>3586.00</td>\n",
       "      <td>603.89</td>\n",
       "      <td>10636.76</td>\n",
       "      <td>0.00</td>\n",
       "      <td>8.00</td>\n",
       "      <td>49.00</td>\n",
       "      <td>106.00</td>\n",
       "      <td>514721.00</td>\n",
       "    </tr>\n",
       "    <tr>\n",
       "      <th>Creditors_Velocity_Days</th>\n",
       "      <td>3586.00</td>\n",
       "      <td>2057.85</td>\n",
       "      <td>54169.48</td>\n",
       "      <td>0.00</td>\n",
       "      <td>8.00</td>\n",
       "      <td>39.00</td>\n",
       "      <td>89.00</td>\n",
       "      <td>2034145.00</td>\n",
       "    </tr>\n",
       "    <tr>\n",
       "      <th>Inventory_Velocity_Days</th>\n",
       "      <td>3483.00</td>\n",
       "      <td>79.64</td>\n",
       "      <td>137.85</td>\n",
       "      <td>-199.00</td>\n",
       "      <td>0.00</td>\n",
       "      <td>35.00</td>\n",
       "      <td>96.00</td>\n",
       "      <td>996.00</td>\n",
       "    </tr>\n",
       "    <tr>\n",
       "      <th>Value_of_Output_by_Total_Assets</th>\n",
       "      <td>3586.00</td>\n",
       "      <td>0.82</td>\n",
       "      <td>1.20</td>\n",
       "      <td>-0.33</td>\n",
       "      <td>0.07</td>\n",
       "      <td>0.48</td>\n",
       "      <td>1.16</td>\n",
       "      <td>17.63</td>\n",
       "    </tr>\n",
       "    <tr>\n",
       "      <th>Value_of_Output_by_Gross_Block</th>\n",
       "      <td>3586.00</td>\n",
       "      <td>61.88</td>\n",
       "      <td>976.82</td>\n",
       "      <td>-61.00</td>\n",
       "      <td>0.27</td>\n",
       "      <td>1.53</td>\n",
       "      <td>4.91</td>\n",
       "      <td>43404.00</td>\n",
       "    </tr>\n",
       "  </tbody>\n",
       "</table>\n",
       "<p>66 rows × 8 columns</p>\n",
       "</div>"
      ],
      "text/plain": [
       "                                  count     mean      std      min     25%  \\\n",
       "Co_Code                         3586.00 16065.39 19776.82     4.00 3029.25   \n",
       "Networth_Next_Year              3586.00   725.05  4769.68 -8021.60    3.98   \n",
       "Equity_Paid_Up                  3586.00    62.97   778.76     0.00    3.75   \n",
       "Networth                        3586.00   649.75  4091.99 -7027.48    3.89   \n",
       "Capital_Employed                3586.00  2799.61 26975.14 -1824.75    7.60   \n",
       "...                                 ...      ...      ...      ...     ...   \n",
       "Debtors_Velocity_Days           3586.00   603.89 10636.76     0.00    8.00   \n",
       "Creditors_Velocity_Days         3586.00  2057.85 54169.48     0.00    8.00   \n",
       "Inventory_Velocity_Days         3483.00    79.64   137.85  -199.00    0.00   \n",
       "Value_of_Output_by_Total_Assets 3586.00     0.82     1.20    -0.33    0.07   \n",
       "Value_of_Output_by_Gross_Block  3586.00    61.88   976.82   -61.00    0.27   \n",
       "\n",
       "                                    50%      75%        max  \n",
       "Co_Code                         6077.50 24269.50   72493.00  \n",
       "Networth_Next_Year                19.02   123.80  111729.10  \n",
       "Equity_Paid_Up                     8.29    19.52   42263.46  \n",
       "Networth                          18.58   117.30   81657.35  \n",
       "Capital_Employed                  39.09   226.60  714001.25  \n",
       "...                                 ...      ...        ...  \n",
       "Debtors_Velocity_Days             49.00   106.00  514721.00  \n",
       "Creditors_Velocity_Days           39.00    89.00 2034145.00  \n",
       "Inventory_Velocity_Days           35.00    96.00     996.00  \n",
       "Value_of_Output_by_Total_Assets    0.48     1.16      17.63  \n",
       "Value_of_Output_by_Gross_Block     1.53     4.91   43404.00  \n",
       "\n",
       "[66 rows x 8 columns]"
      ]
     },
     "execution_count": 9,
     "metadata": {},
     "output_type": "execute_result"
    }
   ],
   "source": [
    "pd.options.display.float_format = '{:.2f}'.format \n",
    "df.describe().T"
   ]
  },
  {
   "cell_type": "markdown",
   "id": "b044e9e2",
   "metadata": {
    "id": "46d616b9"
   },
   "source": [
    "## Check for duplicate data\n"
   ]
  },
  {
   "cell_type": "code",
   "execution_count": 10,
   "id": "f4d21611",
   "metadata": {
    "id": "0294896d",
    "outputId": "f0c58fa4-dfdd-4c86-bcd4-e8500a895cec"
   },
   "outputs": [
    {
     "name": "stdout",
     "output_type": "stream",
     "text": [
      "Number of duplicate rows = 0\n"
     ]
    },
    {
     "data": {
      "text/html": [
       "<div>\n",
       "<style scoped>\n",
       "    .dataframe tbody tr th:only-of-type {\n",
       "        vertical-align: middle;\n",
       "    }\n",
       "\n",
       "    .dataframe tbody tr th {\n",
       "        vertical-align: top;\n",
       "    }\n",
       "\n",
       "    .dataframe thead th {\n",
       "        text-align: right;\n",
       "    }\n",
       "</style>\n",
       "<table border=\"1\" class=\"dataframe\">\n",
       "  <thead>\n",
       "    <tr style=\"text-align: right;\">\n",
       "      <th></th>\n",
       "      <th>Co_Code</th>\n",
       "      <th>Co_Name</th>\n",
       "      <th>Networth_Next_Year</th>\n",
       "      <th>Equity_Paid_Up</th>\n",
       "      <th>Networth</th>\n",
       "      <th>Capital_Employed</th>\n",
       "      <th>Total_Debt</th>\n",
       "      <th>Gross_Block</th>\n",
       "      <th>Net_Working_Capital</th>\n",
       "      <th>Current_Assets</th>\n",
       "      <th>...</th>\n",
       "      <th>PBIDTM_perc[Latest]</th>\n",
       "      <th>PBITM_perc[Latest]</th>\n",
       "      <th>PBDTM_perc[Latest]</th>\n",
       "      <th>CPM_perc[Latest]</th>\n",
       "      <th>APATM_perc[Latest]</th>\n",
       "      <th>Debtors_Velocity_Days</th>\n",
       "      <th>Creditors_Velocity_Days</th>\n",
       "      <th>Inventory_Velocity_Days</th>\n",
       "      <th>Value_of_Output_by_Total_Assets</th>\n",
       "      <th>Value_of_Output_by_Gross_Block</th>\n",
       "    </tr>\n",
       "  </thead>\n",
       "  <tbody>\n",
       "  </tbody>\n",
       "</table>\n",
       "<p>0 rows × 67 columns</p>\n",
       "</div>"
      ],
      "text/plain": [
       "Empty DataFrame\n",
       "Columns: [Co_Code, Co_Name, Networth_Next_Year, Equity_Paid_Up, Networth, Capital_Employed, Total_Debt, Gross_Block, Net_Working_Capital, Current_Assets, Current_Liabilities_and_Provisions, Total_Assets_by_Liabilities, Gross_Sales, Net_Sales, Other_Income, Value_Of_Output, Cost_of_Production, Selling_Cost, PBIDT, PBDT, PBIT, PBT, PAT, Adjusted_PAT, CP, Revenue_earnings_in_forex, Revenue_expenses_in_forex, Capital_expenses_in_forex, Book_Value_Unit_Curr, Book_Value_Adj._Unit_Curr, Market_Capitalisation, CEPS_annualised_Unit_Curr, Cash_Flow_From_Operating_Activities, Cash_Flow_From_Investing_Activities, Cash_Flow_From_Financing_Activities, ROG-Net_Worth_perc, ROG-Capital_Employed_perc, ROG-Gross_Block_perc, ROG-Gross_Sales_perc, ROG-Net_Sales_perc, ROG-Cost_of_Production_perc, ROG-Total_Assets_perc, ROG-PBIDT_perc, ROG-PBDT_perc, ROG-PBIT_perc, ROG-PBT_perc, ROG-PAT_perc, ROG-CP_perc, ROG-Revenue_earnings_in_forex_perc, ROG-Revenue_expenses_in_forex_perc, ROG-Market_Capitalisation_perc, Current_Ratio[Latest], Fixed_Assets_Ratio[Latest], Inventory_Ratio[Latest], Debtors_Ratio[Latest], Total_Asset_Turnover_Ratio[Latest], Interest_Cover_Ratio[Latest], PBIDTM_perc[Latest], PBITM_perc[Latest], PBDTM_perc[Latest], CPM_perc[Latest], APATM_perc[Latest], Debtors_Velocity_Days, Creditors_Velocity_Days, Inventory_Velocity_Days, Value_of_Output_by_Total_Assets, Value_of_Output_by_Gross_Block]\n",
       "Index: []\n",
       "\n",
       "[0 rows x 67 columns]"
      ]
     },
     "execution_count": 10,
     "metadata": {},
     "output_type": "execute_result"
    }
   ],
   "source": [
    "dups = df.duplicated()\n",
    "print('Number of duplicate rows = %d' % (dups.sum()))\n",
    "df[dups]"
   ]
  },
  {
   "cell_type": "markdown",
   "id": "4989e9af",
   "metadata": {
    "id": "93175817"
   },
   "source": [
    "# Criteria"
   ]
  },
  {
   "cell_type": "markdown",
   "id": "f5198058",
   "metadata": {
    "id": "5de6ca6a"
   },
   "source": [
    "## 1.1 Outlier Treatment"
   ]
  },
  {
   "cell_type": "code",
   "execution_count": 11,
   "id": "cf29720a",
   "metadata": {
    "id": "fe743092"
   },
   "outputs": [],
   "source": [
    "df1 = df.drop(['Co_Code', 'Co_Name'], axis = 1)"
   ]
  },
  {
   "cell_type": "code",
   "execution_count": 12,
   "id": "4a8177d7",
   "metadata": {
    "id": "92bbcd0f",
    "outputId": "48ba7cc1-c19e-469c-d91e-464360be585f"
   },
   "outputs": [
    {
     "data": {
      "text/html": [
       "<div>\n",
       "<style scoped>\n",
       "    .dataframe tbody tr th:only-of-type {\n",
       "        vertical-align: middle;\n",
       "    }\n",
       "\n",
       "    .dataframe tbody tr th {\n",
       "        vertical-align: top;\n",
       "    }\n",
       "\n",
       "    .dataframe thead th {\n",
       "        text-align: right;\n",
       "    }\n",
       "</style>\n",
       "<table border=\"1\" class=\"dataframe\">\n",
       "  <thead>\n",
       "    <tr style=\"text-align: right;\">\n",
       "      <th></th>\n",
       "      <th>Networth_Next_Year</th>\n",
       "      <th>Equity_Paid_Up</th>\n",
       "      <th>Networth</th>\n",
       "      <th>Capital_Employed</th>\n",
       "      <th>Total_Debt</th>\n",
       "      <th>Gross_Block</th>\n",
       "      <th>Net_Working_Capital</th>\n",
       "      <th>Current_Assets</th>\n",
       "      <th>Current_Liabilities_and_Provisions</th>\n",
       "      <th>Total_Assets_by_Liabilities</th>\n",
       "      <th>...</th>\n",
       "      <th>PBIDTM_perc[Latest]</th>\n",
       "      <th>PBITM_perc[Latest]</th>\n",
       "      <th>PBDTM_perc[Latest]</th>\n",
       "      <th>CPM_perc[Latest]</th>\n",
       "      <th>APATM_perc[Latest]</th>\n",
       "      <th>Debtors_Velocity_Days</th>\n",
       "      <th>Creditors_Velocity_Days</th>\n",
       "      <th>Inventory_Velocity_Days</th>\n",
       "      <th>Value_of_Output_by_Total_Assets</th>\n",
       "      <th>Value_of_Output_by_Gross_Block</th>\n",
       "    </tr>\n",
       "  </thead>\n",
       "  <tbody>\n",
       "    <tr>\n",
       "      <th>0</th>\n",
       "      <td>-8021.60</td>\n",
       "      <td>419.36</td>\n",
       "      <td>-7027.48</td>\n",
       "      <td>-1007.24</td>\n",
       "      <td>5936.03</td>\n",
       "      <td>474.30</td>\n",
       "      <td>-1076.34</td>\n",
       "      <td>40.50</td>\n",
       "      <td>1116.85</td>\n",
       "      <td>109.60</td>\n",
       "      <td>...</td>\n",
       "      <td>0.00</td>\n",
       "      <td>0.00</td>\n",
       "      <td>0.00</td>\n",
       "      <td>0.00</td>\n",
       "      <td>0.00</td>\n",
       "      <td>0</td>\n",
       "      <td>0</td>\n",
       "      <td>45.00</td>\n",
       "      <td>0.00</td>\n",
       "      <td>0.00</td>\n",
       "    </tr>\n",
       "    <tr>\n",
       "      <th>1</th>\n",
       "      <td>-3986.19</td>\n",
       "      <td>1954.93</td>\n",
       "      <td>-2968.08</td>\n",
       "      <td>4458.20</td>\n",
       "      <td>7410.18</td>\n",
       "      <td>9070.86</td>\n",
       "      <td>-1098.88</td>\n",
       "      <td>486.86</td>\n",
       "      <td>1585.74</td>\n",
       "      <td>6043.94</td>\n",
       "      <td>...</td>\n",
       "      <td>-10.30</td>\n",
       "      <td>-39.74</td>\n",
       "      <td>-57.74</td>\n",
       "      <td>-57.74</td>\n",
       "      <td>-87.18</td>\n",
       "      <td>29</td>\n",
       "      <td>101</td>\n",
       "      <td>2.00</td>\n",
       "      <td>0.31</td>\n",
       "      <td>0.24</td>\n",
       "    </tr>\n",
       "    <tr>\n",
       "      <th>2</th>\n",
       "      <td>-3192.58</td>\n",
       "      <td>53.84</td>\n",
       "      <td>506.86</td>\n",
       "      <td>7714.68</td>\n",
       "      <td>6944.54</td>\n",
       "      <td>1281.54</td>\n",
       "      <td>4496.25</td>\n",
       "      <td>9097.64</td>\n",
       "      <td>4601.39</td>\n",
       "      <td>12316.07</td>\n",
       "      <td>...</td>\n",
       "      <td>-5279.14</td>\n",
       "      <td>-5516.98</td>\n",
       "      <td>-7780.25</td>\n",
       "      <td>-7723.67</td>\n",
       "      <td>-7961.51</td>\n",
       "      <td>97</td>\n",
       "      <td>558</td>\n",
       "      <td>0.00</td>\n",
       "      <td>-0.03</td>\n",
       "      <td>-0.26</td>\n",
       "    </tr>\n",
       "    <tr>\n",
       "      <th>3</th>\n",
       "      <td>-3054.51</td>\n",
       "      <td>157.30</td>\n",
       "      <td>-623.49</td>\n",
       "      <td>2353.88</td>\n",
       "      <td>2326.05</td>\n",
       "      <td>1033.69</td>\n",
       "      <td>-2612.42</td>\n",
       "      <td>1034.12</td>\n",
       "      <td>3646.54</td>\n",
       "      <td>6000.42</td>\n",
       "      <td>...</td>\n",
       "      <td>-3.33</td>\n",
       "      <td>-7.21</td>\n",
       "      <td>-48.13</td>\n",
       "      <td>-47.70</td>\n",
       "      <td>-51.58</td>\n",
       "      <td>93</td>\n",
       "      <td>63</td>\n",
       "      <td>2.00</td>\n",
       "      <td>0.24</td>\n",
       "      <td>1.90</td>\n",
       "    </tr>\n",
       "    <tr>\n",
       "      <th>4</th>\n",
       "      <td>-2967.36</td>\n",
       "      <td>50.30</td>\n",
       "      <td>-1070.83</td>\n",
       "      <td>4675.33</td>\n",
       "      <td>5740.90</td>\n",
       "      <td>1084.20</td>\n",
       "      <td>1836.23</td>\n",
       "      <td>4685.81</td>\n",
       "      <td>2849.58</td>\n",
       "      <td>7524.91</td>\n",
       "      <td>...</td>\n",
       "      <td>-295.55</td>\n",
       "      <td>-400.55</td>\n",
       "      <td>-845.88</td>\n",
       "      <td>379.79</td>\n",
       "      <td>274.79</td>\n",
       "      <td>3887</td>\n",
       "      <td>346</td>\n",
       "      <td>0.00</td>\n",
       "      <td>0.01</td>\n",
       "      <td>0.05</td>\n",
       "    </tr>\n",
       "  </tbody>\n",
       "</table>\n",
       "<p>5 rows × 65 columns</p>\n",
       "</div>"
      ],
      "text/plain": [
       "   Networth_Next_Year  Equity_Paid_Up  Networth  Capital_Employed  Total_Debt  \\\n",
       "0            -8021.60          419.36  -7027.48          -1007.24     5936.03   \n",
       "1            -3986.19         1954.93  -2968.08           4458.20     7410.18   \n",
       "2            -3192.58           53.84    506.86           7714.68     6944.54   \n",
       "3            -3054.51          157.30   -623.49           2353.88     2326.05   \n",
       "4            -2967.36           50.30  -1070.83           4675.33     5740.90   \n",
       "\n",
       "   Gross_Block  Net_Working_Capital  Current_Assets  \\\n",
       "0       474.30             -1076.34           40.50   \n",
       "1      9070.86             -1098.88          486.86   \n",
       "2      1281.54              4496.25         9097.64   \n",
       "3      1033.69             -2612.42         1034.12   \n",
       "4      1084.20              1836.23         4685.81   \n",
       "\n",
       "   Current_Liabilities_and_Provisions  Total_Assets_by_Liabilities  ...  \\\n",
       "0                             1116.85                       109.60  ...   \n",
       "1                             1585.74                      6043.94  ...   \n",
       "2                             4601.39                     12316.07  ...   \n",
       "3                             3646.54                      6000.42  ...   \n",
       "4                             2849.58                      7524.91  ...   \n",
       "\n",
       "   PBIDTM_perc[Latest]  PBITM_perc[Latest]  PBDTM_perc[Latest]  \\\n",
       "0                 0.00                0.00                0.00   \n",
       "1               -10.30              -39.74              -57.74   \n",
       "2             -5279.14            -5516.98            -7780.25   \n",
       "3                -3.33               -7.21              -48.13   \n",
       "4              -295.55             -400.55             -845.88   \n",
       "\n",
       "   CPM_perc[Latest]  APATM_perc[Latest]  Debtors_Velocity_Days  \\\n",
       "0              0.00                0.00                      0   \n",
       "1            -57.74              -87.18                     29   \n",
       "2          -7723.67            -7961.51                     97   \n",
       "3            -47.70              -51.58                     93   \n",
       "4            379.79              274.79                   3887   \n",
       "\n",
       "   Creditors_Velocity_Days  Inventory_Velocity_Days  \\\n",
       "0                        0                    45.00   \n",
       "1                      101                     2.00   \n",
       "2                      558                     0.00   \n",
       "3                       63                     2.00   \n",
       "4                      346                     0.00   \n",
       "\n",
       "   Value_of_Output_by_Total_Assets  Value_of_Output_by_Gross_Block  \n",
       "0                             0.00                            0.00  \n",
       "1                             0.31                            0.24  \n",
       "2                            -0.03                           -0.26  \n",
       "3                             0.24                            1.90  \n",
       "4                             0.01                            0.05  \n",
       "\n",
       "[5 rows x 65 columns]"
      ]
     },
     "execution_count": 12,
     "metadata": {},
     "output_type": "execute_result"
    }
   ],
   "source": [
    "df1.head()"
   ]
  },
  {
   "cell_type": "code",
   "execution_count": 13,
   "id": "a28768f5",
   "metadata": {
    "id": "7ac8c36e",
    "outputId": "0dc1c582-cd1d-44a7-e4d5-ccd5c23279e2"
   },
   "outputs": [
    {
     "data": {
      "text/plain": [
       "(3586, 65)"
      ]
     },
     "execution_count": 13,
     "metadata": {},
     "output_type": "execute_result"
    }
   ],
   "source": [
    "df1.shape"
   ]
  },
  {
   "cell_type": "code",
   "execution_count": 14,
   "id": "cf468d3b",
   "metadata": {
    "id": "ed27310c",
    "outputId": "a582cd4b-4794-4727-f70a-96f219aefe33"
   },
   "outputs": [
    {
     "data": {
      "image/png": "[encoded data removed]",
      "text/plain": [
       "<Figure size 1152x576 with 1 Axes>"
      ]
     },
     "metadata": {
      "needs_background": "light"
     },
     "output_type": "display_data"
    }
   ],
   "source": [
    "#  Checking Outliers in dataset\n",
    "df1.boxplot(figsize=(16,8))\n",
    "plt.xticks(rotation=90)\n",
    "plt.show()"
   ]
  },
  {
   "cell_type": "code",
   "execution_count": 15,
   "id": "00c0f79e",
   "metadata": {
    "id": "69b83384"
   },
   "outputs": [],
   "source": [
    "# Define a function which returns the Upper and Lower limit to detect outliers for each feature.\n",
    "\n",
    "def mod_outlier(df1):\n",
    "    df1 = df1._get_numeric_data()\n",
    "    q1 = df1.quantile(0.25)\n",
    "    q3 = df1.quantile(0.75)\n",
    "    iqr = q3 - q1\n",
    "    lower_bound = q1 - (1.5 * iqr)\n",
    "    upper_bound = q3 + (1.5 * iqr)\n",
    "    \n",
    "    for col in df1.columns:\n",
    "        for i in range(0,len(df1[col])):\n",
    "            if df1[col][i] < lower_bound[col]:\n",
    "                df1[col][i] = lower_bound[col]\n",
    "                \n",
    "            if df1[col][i] > upper_bound[col]:\n",
    "                    df1[col][i] = upper_bound[col]\n",
    "    for col in df1.columns:\n",
    "        return(df1)"
   ]
  },
  {
   "cell_type": "code",
   "execution_count": 16,
   "id": "225fbc91",
   "metadata": {
    "id": "d47f653f"
   },
   "outputs": [],
   "source": [
    "df2 = mod_outlier(df1)"
   ]
  },
  {
   "cell_type": "code",
   "execution_count": 17,
   "id": "444c155d",
   "metadata": {
    "id": "c203d320",
    "outputId": "5fab5fed-484a-47f8-ff0e-41ec3a27a79c"
   },
   "outputs": [
    {
     "data": {
      "image/png": "[encoded data removed]",
      "text/plain": [
       "<Figure size 1152x576 with 1 Axes>"
      ]
     },
     "metadata": {
      "needs_background": "light"
     },
     "output_type": "display_data"
    }
   ],
   "source": [
    "# Checking Outliers in dataset\n",
    "df2.boxplot(figsize=(16,8))\n",
    "plt.xticks(rotation=90)\n",
    "plt.show()"
   ]
  },
  {
   "cell_type": "markdown",
   "id": "4ce4d5d2",
   "metadata": {
    "id": "7ea8fc51"
   },
   "source": [
    "## 1.2 Missing Value Treatment"
   ]
  },
  {
   "cell_type": "code",
   "execution_count": 18,
   "id": "c8efed1f",
   "metadata": {
    "id": "a5dd50e7",
    "outputId": "0547b325-fca2-408f-ae2f-f327748cd414"
   },
   "outputs": [
    {
     "data": {
      "text/plain": [
       "Inventory_Velocity_Days               103\n",
       "Book_Value_Adj._Unit_Curr               4\n",
       "Debtors_Ratio[Latest]                   1\n",
       "Interest_Cover_Ratio[Latest]            1\n",
       "Current_Ratio[Latest]                   1\n",
       "Fixed_Assets_Ratio[Latest]              1\n",
       "Inventory_Ratio[Latest]                 1\n",
       "Total_Asset_Turnover_Ratio[Latest]      1\n",
       "PBIDTM_perc[Latest]                     1\n",
       "PBITM_perc[Latest]                      1\n",
       "PBDTM_perc[Latest]                      1\n",
       "CPM_perc[Latest]                        1\n",
       "APATM_perc[Latest]                      1\n",
       "dtype: int64"
      ]
     },
     "execution_count": 18,
     "metadata": {},
     "output_type": "execute_result"
    }
   ],
   "source": [
    "df2.isnull().sum().sort_values(ascending=False).head(13)"
   ]
  },
  {
   "cell_type": "code",
   "execution_count": 19,
   "id": "73ccb3c6",
   "metadata": {
    "id": "84cc6658",
    "outputId": "e2e2e5c6-e61e-4491-c9db-7e1a9d5eb5a2"
   },
   "outputs": [
    {
     "data": {
      "text/plain": [
       "118"
      ]
     },
     "execution_count": 19,
     "metadata": {},
     "output_type": "execute_result"
    }
   ],
   "source": [
    "df2.isnull().sum().sum()"
   ]
  },
  {
   "cell_type": "code",
   "execution_count": 20,
   "id": "5779b9be",
   "metadata": {
    "id": "4ed8dfb8",
    "outputId": "0831d158-1e28-4436-828c-6e3ed2f3356f"
   },
   "outputs": [
    {
     "data": {
      "text/plain": [
       "233090"
      ]
     },
     "execution_count": 20,
     "metadata": {},
     "output_type": "execute_result"
    }
   ],
   "source": [
    "df2.size"
   ]
  },
  {
   "cell_type": "markdown",
   "id": "1b8cd1e6",
   "metadata": {
    "id": "405572d6"
   },
   "source": [
    "we can observe 0.05% missing values in the dataset"
   ]
  },
  {
   "cell_type": "code",
   "execution_count": 21,
   "id": "75e24bd0",
   "metadata": {
    "id": "f8cbf3ed",
    "outputId": "8c9e213b-dec8-4ab4-c402-6dc259144623"
   },
   "outputs": [
    {
     "name": "stdout",
     "output_type": "stream",
     "text": [
      "(array([27, 49, 50, 51, 52, 53, 54, 55, 56, 57, 58, 59, 62], dtype=int64),)\n"
     ]
    }
   ],
   "source": [
    "#Columns with missing values\n",
    "print(np.where(df2.isnull().sum()>0))\n"
   ]
  },
  {
   "cell_type": "code",
   "execution_count": 22,
   "id": "c0d1ebb7",
   "metadata": {
    "id": "1d0bccc4",
    "outputId": "452945bf-77f1-4b4e-f5fb-690eea817016"
   },
   "outputs": [
    {
     "data": {
      "text/html": [
       "<div>\n",
       "<style scoped>\n",
       "    .dataframe tbody tr th:only-of-type {\n",
       "        vertical-align: middle;\n",
       "    }\n",
       "\n",
       "    .dataframe tbody tr th {\n",
       "        vertical-align: top;\n",
       "    }\n",
       "\n",
       "    .dataframe thead th {\n",
       "        text-align: right;\n",
       "    }\n",
       "</style>\n",
       "<table border=\"1\" class=\"dataframe\">\n",
       "  <thead>\n",
       "    <tr style=\"text-align: right;\">\n",
       "      <th></th>\n",
       "      <th>Networth_Next_Year</th>\n",
       "      <th>Equity_Paid_Up</th>\n",
       "      <th>Networth</th>\n",
       "      <th>Capital_Employed</th>\n",
       "      <th>Total_Debt</th>\n",
       "      <th>Gross_Block</th>\n",
       "      <th>Net_Working_Capital</th>\n",
       "      <th>Current_Assets</th>\n",
       "      <th>Current_Liabilities_and_Provisions</th>\n",
       "      <th>Total_Assets_by_Liabilities</th>\n",
       "      <th>...</th>\n",
       "      <th>PBIDTM_perc[Latest]</th>\n",
       "      <th>PBITM_perc[Latest]</th>\n",
       "      <th>PBDTM_perc[Latest]</th>\n",
       "      <th>CPM_perc[Latest]</th>\n",
       "      <th>APATM_perc[Latest]</th>\n",
       "      <th>Debtors_Velocity_Days</th>\n",
       "      <th>Creditors_Velocity_Days</th>\n",
       "      <th>Inventory_Velocity_Days</th>\n",
       "      <th>Value_of_Output_by_Total_Assets</th>\n",
       "      <th>Value_of_Output_by_Gross_Block</th>\n",
       "    </tr>\n",
       "  </thead>\n",
       "  <tbody>\n",
       "    <tr>\n",
       "      <th>0</th>\n",
       "      <td>-175.74</td>\n",
       "      <td>43.17</td>\n",
       "      <td>-166.22</td>\n",
       "      <td>-320.90</td>\n",
       "      <td>180.83</td>\n",
       "      <td>328.88</td>\n",
       "      <td>-89.41</td>\n",
       "      <td>40.50</td>\n",
       "      <td>163.03</td>\n",
       "      <td>109.60</td>\n",
       "      <td>...</td>\n",
       "      <td>0.00</td>\n",
       "      <td>0.00</td>\n",
       "      <td>0.00</td>\n",
       "      <td>0.00</td>\n",
       "      <td>0.00</td>\n",
       "      <td>0</td>\n",
       "      <td>0</td>\n",
       "      <td>45.00</td>\n",
       "      <td>0.00</td>\n",
       "      <td>0.00</td>\n",
       "    </tr>\n",
       "    <tr>\n",
       "      <th>1</th>\n",
       "      <td>-175.74</td>\n",
       "      <td>43.17</td>\n",
       "      <td>-166.22</td>\n",
       "      <td>555.11</td>\n",
       "      <td>180.83</td>\n",
       "      <td>328.88</td>\n",
       "      <td>-89.41</td>\n",
       "      <td>332.19</td>\n",
       "      <td>163.03</td>\n",
       "      <td>760.52</td>\n",
       "      <td>...</td>\n",
       "      <td>-10.30</td>\n",
       "      <td>-21.43</td>\n",
       "      <td>-21.16</td>\n",
       "      <td>-17.09</td>\n",
       "      <td>-11.12</td>\n",
       "      <td>29</td>\n",
       "      <td>101</td>\n",
       "      <td>2.00</td>\n",
       "      <td>0.31</td>\n",
       "      <td>0.24</td>\n",
       "    </tr>\n",
       "    <tr>\n",
       "      <th>2</th>\n",
       "      <td>-175.74</td>\n",
       "      <td>43.17</td>\n",
       "      <td>287.41</td>\n",
       "      <td>555.11</td>\n",
       "      <td>180.83</td>\n",
       "      <td>328.88</td>\n",
       "      <td>151.52</td>\n",
       "      <td>332.19</td>\n",
       "      <td>163.03</td>\n",
       "      <td>760.52</td>\n",
       "      <td>...</td>\n",
       "      <td>-28.48</td>\n",
       "      <td>-21.43</td>\n",
       "      <td>-21.16</td>\n",
       "      <td>-17.09</td>\n",
       "      <td>-11.12</td>\n",
       "      <td>97</td>\n",
       "      <td>210</td>\n",
       "      <td>0.00</td>\n",
       "      <td>-0.03</td>\n",
       "      <td>-0.26</td>\n",
       "    </tr>\n",
       "    <tr>\n",
       "      <th>3</th>\n",
       "      <td>-175.74</td>\n",
       "      <td>43.17</td>\n",
       "      <td>-166.22</td>\n",
       "      <td>555.11</td>\n",
       "      <td>180.83</td>\n",
       "      <td>328.88</td>\n",
       "      <td>-89.41</td>\n",
       "      <td>332.19</td>\n",
       "      <td>163.03</td>\n",
       "      <td>760.52</td>\n",
       "      <td>...</td>\n",
       "      <td>-3.33</td>\n",
       "      <td>-7.21</td>\n",
       "      <td>-21.16</td>\n",
       "      <td>-17.09</td>\n",
       "      <td>-11.12</td>\n",
       "      <td>93</td>\n",
       "      <td>63</td>\n",
       "      <td>2.00</td>\n",
       "      <td>0.24</td>\n",
       "      <td>1.90</td>\n",
       "    </tr>\n",
       "    <tr>\n",
       "      <th>4</th>\n",
       "      <td>-175.74</td>\n",
       "      <td>43.17</td>\n",
       "      <td>-166.22</td>\n",
       "      <td>555.11</td>\n",
       "      <td>180.83</td>\n",
       "      <td>328.88</td>\n",
       "      <td>151.52</td>\n",
       "      <td>332.19</td>\n",
       "      <td>163.03</td>\n",
       "      <td>760.52</td>\n",
       "      <td>...</td>\n",
       "      <td>-28.48</td>\n",
       "      <td>-21.43</td>\n",
       "      <td>-21.16</td>\n",
       "      <td>28.48</td>\n",
       "      <td>18.52</td>\n",
       "      <td>253</td>\n",
       "      <td>210</td>\n",
       "      <td>0.00</td>\n",
       "      <td>0.01</td>\n",
       "      <td>0.05</td>\n",
       "    </tr>\n",
       "    <tr>\n",
       "      <th>...</th>\n",
       "      <td>...</td>\n",
       "      <td>...</td>\n",
       "      <td>...</td>\n",
       "      <td>...</td>\n",
       "      <td>...</td>\n",
       "      <td>...</td>\n",
       "      <td>...</td>\n",
       "      <td>...</td>\n",
       "      <td>...</td>\n",
       "      <td>...</td>\n",
       "      <td>...</td>\n",
       "      <td>...</td>\n",
       "      <td>...</td>\n",
       "      <td>...</td>\n",
       "      <td>...</td>\n",
       "      <td>...</td>\n",
       "      <td>...</td>\n",
       "      <td>...</td>\n",
       "      <td>...</td>\n",
       "      <td>...</td>\n",
       "      <td>...</td>\n",
       "    </tr>\n",
       "    <tr>\n",
       "      <th>3581</th>\n",
       "      <td>303.53</td>\n",
       "      <td>43.17</td>\n",
       "      <td>287.41</td>\n",
       "      <td>555.11</td>\n",
       "      <td>180.83</td>\n",
       "      <td>328.88</td>\n",
       "      <td>0.00</td>\n",
       "      <td>332.19</td>\n",
       "      <td>163.03</td>\n",
       "      <td>760.52</td>\n",
       "      <td>...</td>\n",
       "      <td>0.00</td>\n",
       "      <td>0.00</td>\n",
       "      <td>0.00</td>\n",
       "      <td>0.00</td>\n",
       "      <td>0.00</td>\n",
       "      <td>0</td>\n",
       "      <td>0</td>\n",
       "      <td>35.00</td>\n",
       "      <td>0.60</td>\n",
       "      <td>7.76</td>\n",
       "    </tr>\n",
       "    <tr>\n",
       "      <th>3582</th>\n",
       "      <td>303.53</td>\n",
       "      <td>43.17</td>\n",
       "      <td>287.41</td>\n",
       "      <td>555.11</td>\n",
       "      <td>180.83</td>\n",
       "      <td>328.88</td>\n",
       "      <td>151.52</td>\n",
       "      <td>332.19</td>\n",
       "      <td>163.03</td>\n",
       "      <td>760.52</td>\n",
       "      <td>...</td>\n",
       "      <td>39.92</td>\n",
       "      <td>32.17</td>\n",
       "      <td>29.81</td>\n",
       "      <td>28.48</td>\n",
       "      <td>18.52</td>\n",
       "      <td>13</td>\n",
       "      <td>53</td>\n",
       "      <td>77.00</td>\n",
       "      <td>0.29</td>\n",
       "      <td>1.00</td>\n",
       "    </tr>\n",
       "    <tr>\n",
       "      <th>3583</th>\n",
       "      <td>303.53</td>\n",
       "      <td>43.17</td>\n",
       "      <td>287.41</td>\n",
       "      <td>555.11</td>\n",
       "      <td>180.83</td>\n",
       "      <td>328.88</td>\n",
       "      <td>151.52</td>\n",
       "      <td>332.19</td>\n",
       "      <td>163.03</td>\n",
       "      <td>760.52</td>\n",
       "      <td>...</td>\n",
       "      <td>8.09</td>\n",
       "      <td>6.69</td>\n",
       "      <td>7.31</td>\n",
       "      <td>5.69</td>\n",
       "      <td>4.29</td>\n",
       "      <td>7</td>\n",
       "      <td>30</td>\n",
       "      <td>48.00</td>\n",
       "      <td>1.42</td>\n",
       "      <td>3.24</td>\n",
       "    </tr>\n",
       "    <tr>\n",
       "      <th>3584</th>\n",
       "      <td>303.53</td>\n",
       "      <td>43.17</td>\n",
       "      <td>287.41</td>\n",
       "      <td>555.11</td>\n",
       "      <td>180.83</td>\n",
       "      <td>328.88</td>\n",
       "      <td>151.52</td>\n",
       "      <td>332.19</td>\n",
       "      <td>163.03</td>\n",
       "      <td>760.52</td>\n",
       "      <td>...</td>\n",
       "      <td>28.12</td>\n",
       "      <td>20.55</td>\n",
       "      <td>23.39</td>\n",
       "      <td>19.55</td>\n",
       "      <td>11.99</td>\n",
       "      <td>32</td>\n",
       "      <td>69</td>\n",
       "      <td>42.00</td>\n",
       "      <td>0.36</td>\n",
       "      <td>0.68</td>\n",
       "    </tr>\n",
       "    <tr>\n",
       "      <th>3585</th>\n",
       "      <td>303.53</td>\n",
       "      <td>43.17</td>\n",
       "      <td>287.41</td>\n",
       "      <td>555.11</td>\n",
       "      <td>180.83</td>\n",
       "      <td>328.88</td>\n",
       "      <td>-89.41</td>\n",
       "      <td>332.19</td>\n",
       "      <td>163.03</td>\n",
       "      <td>760.52</td>\n",
       "      <td>...</td>\n",
       "      <td>42.47</td>\n",
       "      <td>22.88</td>\n",
       "      <td>34.04</td>\n",
       "      <td>25.97</td>\n",
       "      <td>6.37</td>\n",
       "      <td>18</td>\n",
       "      <td>74</td>\n",
       "      <td>0.00</td>\n",
       "      <td>0.42</td>\n",
       "      <td>0.49</td>\n",
       "    </tr>\n",
       "  </tbody>\n",
       "</table>\n",
       "<p>3586 rows × 65 columns</p>\n",
       "</div>"
      ],
      "text/plain": [
       "      Networth_Next_Year  Equity_Paid_Up  Networth  Capital_Employed  \\\n",
       "0                -175.74           43.17   -166.22           -320.90   \n",
       "1                -175.74           43.17   -166.22            555.11   \n",
       "2                -175.74           43.17    287.41            555.11   \n",
       "3                -175.74           43.17   -166.22            555.11   \n",
       "4                -175.74           43.17   -166.22            555.11   \n",
       "...                  ...             ...       ...               ...   \n",
       "3581              303.53           43.17    287.41            555.11   \n",
       "3582              303.53           43.17    287.41            555.11   \n",
       "3583              303.53           43.17    287.41            555.11   \n",
       "3584              303.53           43.17    287.41            555.11   \n",
       "3585              303.53           43.17    287.41            555.11   \n",
       "\n",
       "      Total_Debt  Gross_Block  Net_Working_Capital  Current_Assets  \\\n",
       "0         180.83       328.88               -89.41           40.50   \n",
       "1         180.83       328.88               -89.41          332.19   \n",
       "2         180.83       328.88               151.52          332.19   \n",
       "3         180.83       328.88               -89.41          332.19   \n",
       "4         180.83       328.88               151.52          332.19   \n",
       "...          ...          ...                  ...             ...   \n",
       "3581      180.83       328.88                 0.00          332.19   \n",
       "3582      180.83       328.88               151.52          332.19   \n",
       "3583      180.83       328.88               151.52          332.19   \n",
       "3584      180.83       328.88               151.52          332.19   \n",
       "3585      180.83       328.88               -89.41          332.19   \n",
       "\n",
       "      Current_Liabilities_and_Provisions  Total_Assets_by_Liabilities  ...  \\\n",
       "0                                 163.03                       109.60  ...   \n",
       "1                                 163.03                       760.52  ...   \n",
       "2                                 163.03                       760.52  ...   \n",
       "3                                 163.03                       760.52  ...   \n",
       "4                                 163.03                       760.52  ...   \n",
       "...                                  ...                          ...  ...   \n",
       "3581                              163.03                       760.52  ...   \n",
       "3582                              163.03                       760.52  ...   \n",
       "3583                              163.03                       760.52  ...   \n",
       "3584                              163.03                       760.52  ...   \n",
       "3585                              163.03                       760.52  ...   \n",
       "\n",
       "      PBIDTM_perc[Latest]  PBITM_perc[Latest]  PBDTM_perc[Latest]  \\\n",
       "0                    0.00                0.00                0.00   \n",
       "1                  -10.30              -21.43              -21.16   \n",
       "2                  -28.48              -21.43              -21.16   \n",
       "3                   -3.33               -7.21              -21.16   \n",
       "4                  -28.48              -21.43              -21.16   \n",
       "...                   ...                 ...                 ...   \n",
       "3581                 0.00                0.00                0.00   \n",
       "3582                39.92               32.17               29.81   \n",
       "3583                 8.09                6.69                7.31   \n",
       "3584                28.12               20.55               23.39   \n",
       "3585                42.47               22.88               34.04   \n",
       "\n",
       "      CPM_perc[Latest]  APATM_perc[Latest]  Debtors_Velocity_Days  \\\n",
       "0                 0.00                0.00                      0   \n",
       "1               -17.09              -11.12                     29   \n",
       "2               -17.09              -11.12                     97   \n",
       "3               -17.09              -11.12                     93   \n",
       "4                28.48               18.52                    253   \n",
       "...                ...                 ...                    ...   \n",
       "3581              0.00                0.00                      0   \n",
       "3582             28.48               18.52                     13   \n",
       "3583              5.69                4.29                      7   \n",
       "3584             19.55               11.99                     32   \n",
       "3585             25.97                6.37                     18   \n",
       "\n",
       "      Creditors_Velocity_Days  Inventory_Velocity_Days  \\\n",
       "0                           0                    45.00   \n",
       "1                         101                     2.00   \n",
       "2                         210                     0.00   \n",
       "3                          63                     2.00   \n",
       "4                         210                     0.00   \n",
       "...                       ...                      ...   \n",
       "3581                        0                    35.00   \n",
       "3582                       53                    77.00   \n",
       "3583                       30                    48.00   \n",
       "3584                       69                    42.00   \n",
       "3585                       74                     0.00   \n",
       "\n",
       "      Value_of_Output_by_Total_Assets  Value_of_Output_by_Gross_Block  \n",
       "0                                0.00                            0.00  \n",
       "1                                0.31                            0.24  \n",
       "2                               -0.03                           -0.26  \n",
       "3                                0.24                            1.90  \n",
       "4                                0.01                            0.05  \n",
       "...                               ...                             ...  \n",
       "3581                             0.60                            7.76  \n",
       "3582                             0.29                            1.00  \n",
       "3583                             1.42                            3.24  \n",
       "3584                             0.36                            0.68  \n",
       "3585                             0.42                            0.49  \n",
       "\n",
       "[3586 rows x 65 columns]"
      ]
     },
     "execution_count": 22,
     "metadata": {},
     "output_type": "execute_result"
    }
   ],
   "source": [
    "# Treating Missing value\n",
    "df2.fillna(df.median())"
   ]
  },
  {
   "cell_type": "code",
   "execution_count": 23,
   "id": "e7287168",
   "metadata": {
    "id": "2559f24b",
    "outputId": "5769af74-a6de-4257-a141-796cbfbab048"
   },
   "outputs": [
    {
     "data": {
      "text/plain": [
       "True"
      ]
     },
     "execution_count": 23,
     "metadata": {},
     "output_type": "execute_result"
    }
   ],
   "source": [
    "df2.isnull().any().any()"
   ]
  },
  {
   "cell_type": "markdown",
   "id": "8098dc90",
   "metadata": {
    "id": "d0693e8a"
   },
   "source": [
    "Still we can observe the misssing value."
   ]
  },
  {
   "cell_type": "code",
   "execution_count": 24,
   "id": "f0f4755c",
   "metadata": {
    "id": "6a876a01",
    "outputId": "506f4b90-3cf9-429d-8ba7-8636fe646d3e"
   },
   "outputs": [
    {
     "data": {
      "image/png": "[encoded data removed]",
      "text/plain": [
       "<Figure size 864x576 with 1 Axes>"
      ]
     },
     "metadata": {
      "needs_background": "light"
     },
     "output_type": "display_data"
    }
   ],
   "source": [
    "# Let's visually inspect the missing values in our data\n",
    "plt.figure(figsize = (12,8))\n",
    "sns.heatmap(df2.isnull(), cbar = False, cmap = 'coolwarm', yticklabels = False)\n",
    "plt.show()"
   ]
  },
  {
   "cell_type": "code",
   "execution_count": 25,
   "id": "3add871b",
   "metadata": {
    "id": "6aa691dd",
    "outputId": "1faef804-8872-43a5-c658-6d4b5991e708"
   },
   "outputs": [
    {
     "name": "stdout",
     "output_type": "stream",
     "text": [
      "[]\n",
      "['Networth_Next_Year', 'Equity_Paid_Up', 'Networth', 'Capital_Employed', 'Total_Debt', 'Gross_Block', 'Net_Working_Capital', 'Current_Assets', 'Current_Liabilities_and_Provisions', 'Total_Assets_by_Liabilities', 'Gross_Sales', 'Net_Sales', 'Other_Income', 'Value_Of_Output', 'Cost_of_Production', 'Selling_Cost', 'PBIDT', 'PBDT', 'PBIT', 'PBT', 'PAT', 'Adjusted_PAT', 'CP', 'Revenue_earnings_in_forex', 'Revenue_expenses_in_forex', 'Capital_expenses_in_forex', 'Book_Value_Unit_Curr', 'Book_Value_Adj._Unit_Curr', 'Market_Capitalisation', 'CEPS_annualised_Unit_Curr', 'Cash_Flow_From_Operating_Activities', 'Cash_Flow_From_Investing_Activities', 'Cash_Flow_From_Financing_Activities', 'ROG-Net_Worth_perc', 'ROG-Capital_Employed_perc', 'ROG-Gross_Block_perc', 'ROG-Gross_Sales_perc', 'ROG-Net_Sales_perc', 'ROG-Cost_of_Production_perc', 'ROG-Total_Assets_perc', 'ROG-PBIDT_perc', 'ROG-PBDT_perc', 'ROG-PBIT_perc', 'ROG-PBT_perc', 'ROG-PAT_perc', 'ROG-CP_perc', 'ROG-Revenue_earnings_in_forex_perc', 'ROG-Revenue_expenses_in_forex_perc', 'ROG-Market_Capitalisation_perc', 'Current_Ratio[Latest]', 'Fixed_Assets_Ratio[Latest]', 'Inventory_Ratio[Latest]', 'Debtors_Ratio[Latest]', 'Total_Asset_Turnover_Ratio[Latest]', 'Interest_Cover_Ratio[Latest]', 'PBIDTM_perc[Latest]', 'PBITM_perc[Latest]', 'PBDTM_perc[Latest]', 'CPM_perc[Latest]', 'APATM_perc[Latest]', 'Debtors_Velocity_Days', 'Creditors_Velocity_Days', 'Inventory_Velocity_Days', 'Value_of_Output_by_Total_Assets', 'Value_of_Output_by_Gross_Block']\n"
     ]
    }
   ],
   "source": [
    "cat=[]\n",
    "num=[]\n",
    "for i in df2.columns:\n",
    "    if df2[i].dtype==\"object\":\n",
    "        cat.append(i)\n",
    "    else:\n",
    "        num.append(i)\n",
    "print(cat)\n",
    "print(num)"
   ]
  },
  {
   "cell_type": "code",
   "execution_count": 26,
   "id": "49acf168",
   "metadata": {
    "id": "347d2ec2"
   },
   "outputs": [],
   "source": [
    "# Lets treat these missing values with median \n",
    "\n",
    "from sklearn.impute import SimpleImputer\n",
    "imputer = SimpleImputer(missing_values=np.nan, strategy='median')\n",
    "df2 = pd.DataFrame(imputer.fit_transform(df2))\n",
    "df2.columns=num"
   ]
  },
  {
   "cell_type": "code",
   "execution_count": 27,
   "id": "929c99c6",
   "metadata": {
    "id": "51ea02dd",
    "outputId": "f3c349ce-9f16-4b50-ac45-027ec45e719b"
   },
   "outputs": [
    {
     "data": {
      "text/html": [
       "<div>\n",
       "<style scoped>\n",
       "    .dataframe tbody tr th:only-of-type {\n",
       "        vertical-align: middle;\n",
       "    }\n",
       "\n",
       "    .dataframe tbody tr th {\n",
       "        vertical-align: top;\n",
       "    }\n",
       "\n",
       "    .dataframe thead th {\n",
       "        text-align: right;\n",
       "    }\n",
       "</style>\n",
       "<table border=\"1\" class=\"dataframe\">\n",
       "  <thead>\n",
       "    <tr style=\"text-align: right;\">\n",
       "      <th></th>\n",
       "      <th>Networth_Next_Year</th>\n",
       "      <th>Equity_Paid_Up</th>\n",
       "      <th>Networth</th>\n",
       "      <th>Capital_Employed</th>\n",
       "      <th>Total_Debt</th>\n",
       "      <th>Gross_Block</th>\n",
       "      <th>Net_Working_Capital</th>\n",
       "      <th>Current_Assets</th>\n",
       "      <th>Current_Liabilities_and_Provisions</th>\n",
       "      <th>Total_Assets_by_Liabilities</th>\n",
       "      <th>...</th>\n",
       "      <th>PBIDTM_perc[Latest]</th>\n",
       "      <th>PBITM_perc[Latest]</th>\n",
       "      <th>PBDTM_perc[Latest]</th>\n",
       "      <th>CPM_perc[Latest]</th>\n",
       "      <th>APATM_perc[Latest]</th>\n",
       "      <th>Debtors_Velocity_Days</th>\n",
       "      <th>Creditors_Velocity_Days</th>\n",
       "      <th>Inventory_Velocity_Days</th>\n",
       "      <th>Value_of_Output_by_Total_Assets</th>\n",
       "      <th>Value_of_Output_by_Gross_Block</th>\n",
       "    </tr>\n",
       "  </thead>\n",
       "  <tbody>\n",
       "    <tr>\n",
       "      <th>0</th>\n",
       "      <td>-175.74</td>\n",
       "      <td>43.17</td>\n",
       "      <td>-166.22</td>\n",
       "      <td>-320.90</td>\n",
       "      <td>180.83</td>\n",
       "      <td>328.88</td>\n",
       "      <td>-89.41</td>\n",
       "      <td>40.50</td>\n",
       "      <td>163.03</td>\n",
       "      <td>109.60</td>\n",
       "      <td>...</td>\n",
       "      <td>0.00</td>\n",
       "      <td>0.00</td>\n",
       "      <td>0.00</td>\n",
       "      <td>0.00</td>\n",
       "      <td>0.00</td>\n",
       "      <td>0.00</td>\n",
       "      <td>0.00</td>\n",
       "      <td>45.00</td>\n",
       "      <td>0.00</td>\n",
       "      <td>0.00</td>\n",
       "    </tr>\n",
       "    <tr>\n",
       "      <th>1</th>\n",
       "      <td>-175.74</td>\n",
       "      <td>43.17</td>\n",
       "      <td>-166.22</td>\n",
       "      <td>555.11</td>\n",
       "      <td>180.83</td>\n",
       "      <td>328.88</td>\n",
       "      <td>-89.41</td>\n",
       "      <td>332.19</td>\n",
       "      <td>163.03</td>\n",
       "      <td>760.52</td>\n",
       "      <td>...</td>\n",
       "      <td>-10.30</td>\n",
       "      <td>-21.43</td>\n",
       "      <td>-21.16</td>\n",
       "      <td>-17.09</td>\n",
       "      <td>-11.12</td>\n",
       "      <td>29.00</td>\n",
       "      <td>101.00</td>\n",
       "      <td>2.00</td>\n",
       "      <td>0.31</td>\n",
       "      <td>0.24</td>\n",
       "    </tr>\n",
       "    <tr>\n",
       "      <th>2</th>\n",
       "      <td>-175.74</td>\n",
       "      <td>43.17</td>\n",
       "      <td>287.41</td>\n",
       "      <td>555.11</td>\n",
       "      <td>180.83</td>\n",
       "      <td>328.88</td>\n",
       "      <td>151.52</td>\n",
       "      <td>332.19</td>\n",
       "      <td>163.03</td>\n",
       "      <td>760.52</td>\n",
       "      <td>...</td>\n",
       "      <td>-28.48</td>\n",
       "      <td>-21.43</td>\n",
       "      <td>-21.16</td>\n",
       "      <td>-17.09</td>\n",
       "      <td>-11.12</td>\n",
       "      <td>97.00</td>\n",
       "      <td>210.00</td>\n",
       "      <td>0.00</td>\n",
       "      <td>-0.03</td>\n",
       "      <td>-0.26</td>\n",
       "    </tr>\n",
       "    <tr>\n",
       "      <th>3</th>\n",
       "      <td>-175.74</td>\n",
       "      <td>43.17</td>\n",
       "      <td>-166.22</td>\n",
       "      <td>555.11</td>\n",
       "      <td>180.83</td>\n",
       "      <td>328.88</td>\n",
       "      <td>-89.41</td>\n",
       "      <td>332.19</td>\n",
       "      <td>163.03</td>\n",
       "      <td>760.52</td>\n",
       "      <td>...</td>\n",
       "      <td>-3.33</td>\n",
       "      <td>-7.21</td>\n",
       "      <td>-21.16</td>\n",
       "      <td>-17.09</td>\n",
       "      <td>-11.12</td>\n",
       "      <td>93.00</td>\n",
       "      <td>63.00</td>\n",
       "      <td>2.00</td>\n",
       "      <td>0.24</td>\n",
       "      <td>1.90</td>\n",
       "    </tr>\n",
       "    <tr>\n",
       "      <th>4</th>\n",
       "      <td>-175.74</td>\n",
       "      <td>43.17</td>\n",
       "      <td>-166.22</td>\n",
       "      <td>555.11</td>\n",
       "      <td>180.83</td>\n",
       "      <td>328.88</td>\n",
       "      <td>151.52</td>\n",
       "      <td>332.19</td>\n",
       "      <td>163.03</td>\n",
       "      <td>760.52</td>\n",
       "      <td>...</td>\n",
       "      <td>-28.48</td>\n",
       "      <td>-21.43</td>\n",
       "      <td>-21.16</td>\n",
       "      <td>28.48</td>\n",
       "      <td>18.52</td>\n",
       "      <td>253.00</td>\n",
       "      <td>210.00</td>\n",
       "      <td>0.00</td>\n",
       "      <td>0.01</td>\n",
       "      <td>0.05</td>\n",
       "    </tr>\n",
       "  </tbody>\n",
       "</table>\n",
       "<p>5 rows × 65 columns</p>\n",
       "</div>"
      ],
      "text/plain": [
       "   Networth_Next_Year  Equity_Paid_Up  Networth  Capital_Employed  Total_Debt  \\\n",
       "0             -175.74           43.17   -166.22           -320.90      180.83   \n",
       "1             -175.74           43.17   -166.22            555.11      180.83   \n",
       "2             -175.74           43.17    287.41            555.11      180.83   \n",
       "3             -175.74           43.17   -166.22            555.11      180.83   \n",
       "4             -175.74           43.17   -166.22            555.11      180.83   \n",
       "\n",
       "   Gross_Block  Net_Working_Capital  Current_Assets  \\\n",
       "0       328.88               -89.41           40.50   \n",
       "1       328.88               -89.41          332.19   \n",
       "2       328.88               151.52          332.19   \n",
       "3       328.88               -89.41          332.19   \n",
       "4       328.88               151.52          332.19   \n",
       "\n",
       "   Current_Liabilities_and_Provisions  Total_Assets_by_Liabilities  ...  \\\n",
       "0                              163.03                       109.60  ...   \n",
       "1                              163.03                       760.52  ...   \n",
       "2                              163.03                       760.52  ...   \n",
       "3                              163.03                       760.52  ...   \n",
       "4                              163.03                       760.52  ...   \n",
       "\n",
       "   PBIDTM_perc[Latest]  PBITM_perc[Latest]  PBDTM_perc[Latest]  \\\n",
       "0                 0.00                0.00                0.00   \n",
       "1               -10.30              -21.43              -21.16   \n",
       "2               -28.48              -21.43              -21.16   \n",
       "3                -3.33               -7.21              -21.16   \n",
       "4               -28.48              -21.43              -21.16   \n",
       "\n",
       "   CPM_perc[Latest]  APATM_perc[Latest]  Debtors_Velocity_Days  \\\n",
       "0              0.00                0.00                   0.00   \n",
       "1            -17.09              -11.12                  29.00   \n",
       "2            -17.09              -11.12                  97.00   \n",
       "3            -17.09              -11.12                  93.00   \n",
       "4             28.48               18.52                 253.00   \n",
       "\n",
       "   Creditors_Velocity_Days  Inventory_Velocity_Days  \\\n",
       "0                     0.00                    45.00   \n",
       "1                   101.00                     2.00   \n",
       "2                   210.00                     0.00   \n",
       "3                    63.00                     2.00   \n",
       "4                   210.00                     0.00   \n",
       "\n",
       "   Value_of_Output_by_Total_Assets  Value_of_Output_by_Gross_Block  \n",
       "0                             0.00                            0.00  \n",
       "1                             0.31                            0.24  \n",
       "2                            -0.03                           -0.26  \n",
       "3                             0.24                            1.90  \n",
       "4                             0.01                            0.05  \n",
       "\n",
       "[5 rows x 65 columns]"
      ]
     },
     "execution_count": 27,
     "metadata": {},
     "output_type": "execute_result"
    }
   ],
   "source": [
    "# df2 =df_fra[cat]\n",
    "df2.head()"
   ]
  },
  {
   "cell_type": "code",
   "execution_count": 28,
   "id": "a84665f1",
   "metadata": {
    "id": "43f2bb39",
    "outputId": "22556ebc-a3e1-4cb4-f3ef-123a16c88eb4"
   },
   "outputs": [
    {
     "data": {
      "text/plain": [
       "False"
      ]
     },
     "execution_count": 28,
     "metadata": {},
     "output_type": "execute_result"
    }
   ],
   "source": [
    "df2.isnull().any().any()"
   ]
  },
  {
   "cell_type": "code",
   "execution_count": 29,
   "id": "25c084eb",
   "metadata": {
    "id": "a410a651",
    "outputId": "513a3a45-893a-42d4-f0d5-177f7969163e"
   },
   "outputs": [
    {
     "data": {
      "text/plain": [
       "Value_of_Output_by_Gross_Block         0\n",
       "Cash_Flow_From_Investing_Activities    0\n",
       "CEPS_annualised_Unit_Curr              0\n",
       "Market_Capitalisation                  0\n",
       "Book_Value_Adj._Unit_Curr              0\n",
       "Book_Value_Unit_Curr                   0\n",
       "Capital_expenses_in_forex              0\n",
       "Revenue_expenses_in_forex              0\n",
       "Revenue_earnings_in_forex              0\n",
       "CP                                     0\n",
       "Adjusted_PAT                           0\n",
       "PAT                                    0\n",
       "PBT                                    0\n",
       "PBIT                                   0\n",
       "PBDT                                   0\n",
       "PBIDT                                  0\n",
       "Selling_Cost                           0\n",
       "Cost_of_Production                     0\n",
       "Value_Of_Output                        0\n",
       "Other_Income                           0\n",
       "dtype: int64"
      ]
     },
     "execution_count": 29,
     "metadata": {},
     "output_type": "execute_result"
    }
   ],
   "source": [
    "df2.isnull().sum().sort_values(ascending=False).head(20)"
   ]
  },
  {
   "cell_type": "markdown",
   "id": "ac36bb38",
   "metadata": {
    "id": "f3728200"
   },
   "source": [
    "## 1.3 Transform Target variable into 0 and 1"
   ]
  },
  {
   "cell_type": "code",
   "execution_count": 30,
   "id": "78cd1a11",
   "metadata": {
    "id": "1ec56d3a"
   },
   "outputs": [],
   "source": [
    "df2['default'] = np.where((df2['Networth_Next_Year'] > 0), 0, 1)"
   ]
  },
  {
   "cell_type": "code",
   "execution_count": 31,
   "id": "d5b3499a",
   "metadata": {
    "id": "728be686",
    "outputId": "66f14dce-e668-4e1c-8abb-be271bc8fa3b"
   },
   "outputs": [
    {
     "data": {
      "text/html": [
       "<div>\n",
       "<style scoped>\n",
       "    .dataframe tbody tr th:only-of-type {\n",
       "        vertical-align: middle;\n",
       "    }\n",
       "\n",
       "    .dataframe tbody tr th {\n",
       "        vertical-align: top;\n",
       "    }\n",
       "\n",
       "    .dataframe thead th {\n",
       "        text-align: right;\n",
       "    }\n",
       "</style>\n",
       "<table border=\"1\" class=\"dataframe\">\n",
       "  <thead>\n",
       "    <tr style=\"text-align: right;\">\n",
       "      <th></th>\n",
       "      <th>default</th>\n",
       "      <th>Networth_Next_Year</th>\n",
       "    </tr>\n",
       "  </thead>\n",
       "  <tbody>\n",
       "    <tr>\n",
       "      <th>0</th>\n",
       "      <td>1</td>\n",
       "      <td>-175.74</td>\n",
       "    </tr>\n",
       "    <tr>\n",
       "      <th>1</th>\n",
       "      <td>1</td>\n",
       "      <td>-175.74</td>\n",
       "    </tr>\n",
       "    <tr>\n",
       "      <th>2</th>\n",
       "      <td>1</td>\n",
       "      <td>-175.74</td>\n",
       "    </tr>\n",
       "    <tr>\n",
       "      <th>3</th>\n",
       "      <td>1</td>\n",
       "      <td>-175.74</td>\n",
       "    </tr>\n",
       "    <tr>\n",
       "      <th>4</th>\n",
       "      <td>1</td>\n",
       "      <td>-175.74</td>\n",
       "    </tr>\n",
       "  </tbody>\n",
       "</table>\n",
       "</div>"
      ],
      "text/plain": [
       "   default  Networth_Next_Year\n",
       "0        1             -175.74\n",
       "1        1             -175.74\n",
       "2        1             -175.74\n",
       "3        1             -175.74\n",
       "4        1             -175.74"
      ]
     },
     "execution_count": 31,
     "metadata": {},
     "output_type": "execute_result"
    }
   ],
   "source": [
    "# Checking top 5 rows\n",
    "df2[['default','Networth_Next_Year']].head(5)"
   ]
  },
  {
   "cell_type": "code",
   "execution_count": 32,
   "id": "f5a730c8",
   "metadata": {
    "id": "aca8fd92",
    "outputId": "29214ec5-307f-47c0-8d3f-7afcfee4a764"
   },
   "outputs": [
    {
     "data": {
      "text/html": [
       "<div>\n",
       "<style scoped>\n",
       "    .dataframe tbody tr th:only-of-type {\n",
       "        vertical-align: middle;\n",
       "    }\n",
       "\n",
       "    .dataframe tbody tr th {\n",
       "        vertical-align: top;\n",
       "    }\n",
       "\n",
       "    .dataframe thead th {\n",
       "        text-align: right;\n",
       "    }\n",
       "</style>\n",
       "<table border=\"1\" class=\"dataframe\">\n",
       "  <thead>\n",
       "    <tr style=\"text-align: right;\">\n",
       "      <th></th>\n",
       "      <th>default</th>\n",
       "      <th>Networth_Next_Year</th>\n",
       "    </tr>\n",
       "  </thead>\n",
       "  <tbody>\n",
       "    <tr>\n",
       "      <th>3581</th>\n",
       "      <td>0</td>\n",
       "      <td>303.53</td>\n",
       "    </tr>\n",
       "    <tr>\n",
       "      <th>3582</th>\n",
       "      <td>0</td>\n",
       "      <td>303.53</td>\n",
       "    </tr>\n",
       "    <tr>\n",
       "      <th>3583</th>\n",
       "      <td>0</td>\n",
       "      <td>303.53</td>\n",
       "    </tr>\n",
       "    <tr>\n",
       "      <th>3584</th>\n",
       "      <td>0</td>\n",
       "      <td>303.53</td>\n",
       "    </tr>\n",
       "    <tr>\n",
       "      <th>3585</th>\n",
       "      <td>0</td>\n",
       "      <td>303.53</td>\n",
       "    </tr>\n",
       "  </tbody>\n",
       "</table>\n",
       "</div>"
      ],
      "text/plain": [
       "      default  Networth_Next_Year\n",
       "3581        0              303.53\n",
       "3582        0              303.53\n",
       "3583        0              303.53\n",
       "3584        0              303.53\n",
       "3585        0              303.53"
      ]
     },
     "execution_count": 32,
     "metadata": {},
     "output_type": "execute_result"
    }
   ],
   "source": [
    "# Checking tail 5 rows\n",
    "df2[['default','Networth_Next_Year']].tail(5)"
   ]
  },
  {
   "cell_type": "code",
   "execution_count": 33,
   "id": "f192e65b",
   "metadata": {
    "id": "e1dbfc15",
    "outputId": "573b02ff-898e-4ef8-efb7-913f83e03798"
   },
   "outputs": [
    {
     "data": {
      "text/plain": [
       "0    3198\n",
       "1     388\n",
       "Name: default, dtype: int64"
      ]
     },
     "execution_count": 33,
     "metadata": {},
     "output_type": "execute_result"
    }
   ],
   "source": [
    "# How does the variable 'default' look like\n",
    "df2['default'].value_counts()"
   ]
  },
  {
   "cell_type": "code",
   "execution_count": 34,
   "id": "dcddff44",
   "metadata": {
    "id": "c85195ac",
    "outputId": "3c5bbd12-0125-4a26-b301-8a2c89853137"
   },
   "outputs": [
    {
     "data": {
      "text/plain": [
       "0   0.89\n",
       "1   0.11\n",
       "Name: default, dtype: float64"
      ]
     },
     "execution_count": 34,
     "metadata": {},
     "output_type": "execute_result"
    }
   ],
   "source": [
    "# Checking proportion of default\n",
    "df2['default'].value_counts(normalize = True)"
   ]
  },
  {
   "cell_type": "markdown",
   "id": "f0d3dde0",
   "metadata": {
    "id": "57bdc296"
   },
   "source": [
    "## 1.4 Univariate & Bivariate analysis with proper interpretation."
   ]
  },
  {
   "cell_type": "markdown",
   "id": "49241a1c",
   "metadata": {},
   "source": [
    "### Univariate Analysis"
   ]
  },
  {
   "cell_type": "code",
   "execution_count": 35,
   "id": "ead65290",
   "metadata": {
    "id": "59d2dcac",
    "outputId": "a4b2ca11-4a99-403c-d881-f6cf29511913",
    "scrolled": false
   },
   "outputs": [
    {
     "data": {
      "text/html": [
       "<div>\n",
       "<style scoped>\n",
       "    .dataframe tbody tr th:only-of-type {\n",
       "        vertical-align: middle;\n",
       "    }\n",
       "\n",
       "    .dataframe tbody tr th {\n",
       "        vertical-align: top;\n",
       "    }\n",
       "\n",
       "    .dataframe thead th {\n",
       "        text-align: right;\n",
       "    }\n",
       "</style>\n",
       "<table border=\"1\" class=\"dataframe\">\n",
       "  <thead>\n",
       "    <tr style=\"text-align: right;\">\n",
       "      <th></th>\n",
       "      <th>count</th>\n",
       "      <th>mean</th>\n",
       "      <th>std</th>\n",
       "      <th>min</th>\n",
       "      <th>25%</th>\n",
       "      <th>50%</th>\n",
       "      <th>75%</th>\n",
       "      <th>max</th>\n",
       "    </tr>\n",
       "  </thead>\n",
       "  <tbody>\n",
       "    <tr>\n",
       "      <th>Networth_Next_Year</th>\n",
       "      <td>3586.00</td>\n",
       "      <td>77.40</td>\n",
       "      <td>120.48</td>\n",
       "      <td>-175.74</td>\n",
       "      <td>3.98</td>\n",
       "      <td>19.02</td>\n",
       "      <td>123.80</td>\n",
       "      <td>303.53</td>\n",
       "    </tr>\n",
       "    <tr>\n",
       "      <th>Equity_Paid_Up</th>\n",
       "      <td>3586.00</td>\n",
       "      <td>13.99</td>\n",
       "      <td>14.00</td>\n",
       "      <td>0.00</td>\n",
       "      <td>3.75</td>\n",
       "      <td>8.29</td>\n",
       "      <td>19.52</td>\n",
       "      <td>43.17</td>\n",
       "    </tr>\n",
       "    <tr>\n",
       "      <th>Networth</th>\n",
       "      <td>3586.00</td>\n",
       "      <td>73.69</td>\n",
       "      <td>112.94</td>\n",
       "      <td>-166.22</td>\n",
       "      <td>3.89</td>\n",
       "      <td>18.58</td>\n",
       "      <td>117.30</td>\n",
       "      <td>287.41</td>\n",
       "    </tr>\n",
       "    <tr>\n",
       "      <th>Capital_Employed</th>\n",
       "      <td>3586.00</td>\n",
       "      <td>152.49</td>\n",
       "      <td>207.87</td>\n",
       "      <td>-320.90</td>\n",
       "      <td>7.60</td>\n",
       "      <td>39.09</td>\n",
       "      <td>226.60</td>\n",
       "      <td>555.11</td>\n",
       "    </tr>\n",
       "    <tr>\n",
       "      <th>Total_Debt</th>\n",
       "      <td>3586.00</td>\n",
       "      <td>47.44</td>\n",
       "      <td>68.22</td>\n",
       "      <td>-0.72</td>\n",
       "      <td>0.03</td>\n",
       "      <td>7.49</td>\n",
       "      <td>72.35</td>\n",
       "      <td>180.83</td>\n",
       "    </tr>\n",
       "    <tr>\n",
       "      <th>...</th>\n",
       "      <td>...</td>\n",
       "      <td>...</td>\n",
       "      <td>...</td>\n",
       "      <td>...</td>\n",
       "      <td>...</td>\n",
       "      <td>...</td>\n",
       "      <td>...</td>\n",
       "      <td>...</td>\n",
       "    </tr>\n",
       "    <tr>\n",
       "      <th>Creditors_Velocity_Days</th>\n",
       "      <td>3586.00</td>\n",
       "      <td>62.39</td>\n",
       "      <td>68.03</td>\n",
       "      <td>0.00</td>\n",
       "      <td>8.00</td>\n",
       "      <td>39.00</td>\n",
       "      <td>89.00</td>\n",
       "      <td>210.00</td>\n",
       "    </tr>\n",
       "    <tr>\n",
       "      <th>Inventory_Velocity_Days</th>\n",
       "      <td>3586.00</td>\n",
       "      <td>61.22</td>\n",
       "      <td>73.20</td>\n",
       "      <td>-144.00</td>\n",
       "      <td>0.00</td>\n",
       "      <td>35.00</td>\n",
       "      <td>93.00</td>\n",
       "      <td>240.00</td>\n",
       "    </tr>\n",
       "    <tr>\n",
       "      <th>Value_of_Output_by_Total_Assets</th>\n",
       "      <td>3586.00</td>\n",
       "      <td>0.73</td>\n",
       "      <td>0.77</td>\n",
       "      <td>-0.33</td>\n",
       "      <td>0.07</td>\n",
       "      <td>0.48</td>\n",
       "      <td>1.16</td>\n",
       "      <td>2.79</td>\n",
       "    </tr>\n",
       "    <tr>\n",
       "      <th>Value_of_Output_by_Gross_Block</th>\n",
       "      <td>3586.00</td>\n",
       "      <td>3.36</td>\n",
       "      <td>4.10</td>\n",
       "      <td>-6.69</td>\n",
       "      <td>0.27</td>\n",
       "      <td>1.53</td>\n",
       "      <td>4.91</td>\n",
       "      <td>11.87</td>\n",
       "    </tr>\n",
       "    <tr>\n",
       "      <th>default</th>\n",
       "      <td>3586.00</td>\n",
       "      <td>0.11</td>\n",
       "      <td>0.31</td>\n",
       "      <td>0.00</td>\n",
       "      <td>0.00</td>\n",
       "      <td>0.00</td>\n",
       "      <td>0.00</td>\n",
       "      <td>1.00</td>\n",
       "    </tr>\n",
       "  </tbody>\n",
       "</table>\n",
       "<p>66 rows × 8 columns</p>\n",
       "</div>"
      ],
      "text/plain": [
       "                                  count   mean    std     min  25%   50%  \\\n",
       "Networth_Next_Year              3586.00  77.40 120.48 -175.74 3.98 19.02   \n",
       "Equity_Paid_Up                  3586.00  13.99  14.00    0.00 3.75  8.29   \n",
       "Networth                        3586.00  73.69 112.94 -166.22 3.89 18.58   \n",
       "Capital_Employed                3586.00 152.49 207.87 -320.90 7.60 39.09   \n",
       "Total_Debt                      3586.00  47.44  68.22   -0.72 0.03  7.49   \n",
       "...                                 ...    ...    ...     ...  ...   ...   \n",
       "Creditors_Velocity_Days         3586.00  62.39  68.03    0.00 8.00 39.00   \n",
       "Inventory_Velocity_Days         3586.00  61.22  73.20 -144.00 0.00 35.00   \n",
       "Value_of_Output_by_Total_Assets 3586.00   0.73   0.77   -0.33 0.07  0.48   \n",
       "Value_of_Output_by_Gross_Block  3586.00   3.36   4.10   -6.69 0.27  1.53   \n",
       "default                         3586.00   0.11   0.31    0.00 0.00  0.00   \n",
       "\n",
       "                                   75%    max  \n",
       "Networth_Next_Year              123.80 303.53  \n",
       "Equity_Paid_Up                   19.52  43.17  \n",
       "Networth                        117.30 287.41  \n",
       "Capital_Employed                226.60 555.11  \n",
       "Total_Debt                       72.35 180.83  \n",
       "...                                ...    ...  \n",
       "Creditors_Velocity_Days          89.00 210.00  \n",
       "Inventory_Velocity_Days          93.00 240.00  \n",
       "Value_of_Output_by_Total_Assets   1.16   2.79  \n",
       "Value_of_Output_by_Gross_Block    4.91  11.87  \n",
       "default                           0.00   1.00  \n",
       "\n",
       "[66 rows x 8 columns]"
      ]
     },
     "execution_count": 35,
     "metadata": {},
     "output_type": "execute_result"
    }
   ],
   "source": [
    "pd.options.display.float_format = '{:.2f}'.format \n",
    "df2.describe().T"
   ]
  },
  {
   "cell_type": "code",
   "execution_count": 36,
   "id": "a6ce2272",
   "metadata": {
    "id": "d1e60126",
    "outputId": "2db12c0e-b668-41b8-e0b9-554ff10ce3cc"
   },
   "outputs": [
    {
     "data": {
      "text/plain": [
       "Text(0.5, 1.0, 'Figure:Boxplot of few important features')"
      ]
     },
     "execution_count": 36,
     "metadata": {},
     "output_type": "execute_result"
    },
    {
     "data": {
      "image/png": "[encoded data removed]",
      "text/plain": [
       "<Figure size 1800x720 with 1 Axes>"
      ]
     },
     "metadata": {
      "needs_background": "light"
     },
     "output_type": "display_data"
    }
   ],
   "source": [
    "# Boxplot Analysis :\n",
    "plt.figure(figsize=(25,10))\n",
    "sns.boxplot(data=df2)\n",
    "plt.xlabel(\"Variables\")\n",
    "plt.xticks(rotation=90)\n",
    "plt.ylabel(\"Density\")\n",
    "plt.title('Figure:Boxplot of few important features')"
   ]
  },
  {
   "cell_type": "markdown",
   "id": "61e94261",
   "metadata": {
    "id": "0505cd4c"
   },
   "source": [
    "Variable 'Total_Asset_To_Liabilities still have some extreme values.\n",
    "\n",
    "Varible 'Capital_Employes'still have some Extreme and Lower values."
   ]
  },
  {
   "cell_type": "code",
   "execution_count": 37,
   "id": "f2ee2863",
   "metadata": {
    "id": "a5fcb35e",
    "outputId": "5ede7bea-1731-4e45-a708-5985bff8b3a6"
   },
   "outputs": [
    {
     "data": {
      "text/plain": [
       "<matplotlib.axes._subplots.AxesSubplot at 0x272b8a4c400>"
      ]
     },
     "execution_count": 37,
     "metadata": {},
     "output_type": "execute_result"
    },
    {
     "data": {
      "image/png": "[encoded data removed]",
      "text/plain": [
       "<Figure size 1080x1800 with 10 Axes>"
      ]
     },
     "metadata": {
      "needs_background": "light"
     },
     "output_type": "display_data"
    }
   ],
   "source": [
    "# 15 Significate Scaled Feature Variables - Distribution of column with Displot & Box plot :\n",
    "\n",
    "fig,axes = plt.subplots(nrows= 5, ncols=2)\n",
    "fig.set_size_inches(15,25)\n",
    "\n",
    "sns.distplot(df2['Selling_Cost'], ax= axes[0][0])\n",
    "sns.boxplot(df2['Selling_Cost'],orient = 'H', ax= axes[0][1])\n",
    "\n",
    "sns.distplot(df2['PBIDT'], ax= axes[1][0])\n",
    "sns.boxplot(df2['PBIDT'],orient = 'H', ax= axes[1][1])\n",
    "\n",
    "sns.distplot(df2['Cash_Flow_From_Operating_Activities'], ax= axes[2][0])\n",
    "sns.boxplot(df2['Cash_Flow_From_Operating_Activities'],orient = 'H', ax= axes[2][1])\n",
    "\n",
    "sns.distplot(df2['ROG-Net_Worth_perc'], ax= axes[3][0])\n",
    "sns.boxplot(df2['ROG-Net_Worth_perc'],orient = 'H', ax= axes[3][1])\n",
    "\n",
    "sns.distplot(df2['ROG-Capital_Employed_perc'], ax= axes[4][0])\n",
    "sns.boxplot(df2['ROG-Capital_Employed_perc'],orient = 'H', ax= axes[4][1])"
   ]
  },
  {
   "cell_type": "code",
   "execution_count": 38,
   "id": "e9c895c9",
   "metadata": {
    "id": "a46eb3d0",
    "outputId": "2791fa3b-e7a1-4eac-fa45-658cc803f465"
   },
   "outputs": [
    {
     "data": {
      "text/plain": [
       "<matplotlib.axes._subplots.AxesSubplot at 0x272b8650f40>"
      ]
     },
     "execution_count": 38,
     "metadata": {},
     "output_type": "execute_result"
    },
    {
     "data": {
      "image/png": "[encoded data removed]",
      "text/plain": [
       "<Figure size 1080x1800 with 10 Axes>"
      ]
     },
     "metadata": {
      "needs_background": "light"
     },
     "output_type": "display_data"
    }
   ],
   "source": [
    "fig,axes = plt.subplots(nrows= 5, ncols=2)\n",
    "fig.set_size_inches(15,25)\n",
    "\n",
    "sns.distplot(df2['ROG-Total_Assets_perc'], ax= axes[0][0])\n",
    "sns.boxplot(df2['ROG-Total_Assets_perc'],orient = 'H', ax= axes[0][1])\n",
    "\n",
    "sns.distplot(df2['ROG-PBT_perc'], ax= axes[1][0])\n",
    "sns.boxplot(df2['ROG-PBT_perc'],orient = 'H', ax= axes[1][1])\n",
    "\n",
    "sns.distplot(df2['ROG-PBIDT_perc'], ax= axes[2][0])\n",
    "sns.boxplot(df2['ROG-PBIDT_perc'],orient = 'H', ax= axes[2][1])\n",
    "\n",
    "sns.distplot(df2['Interest_Cover_Ratio[Latest]'], ax= axes[3][0])\n",
    "sns.boxplot(df2['Interest_Cover_Ratio[Latest]'],orient = 'H', ax= axes[3][1])\n",
    "\n",
    "sns.distplot(df2['Current_Ratio[Latest]'], ax= axes[4][0])\n",
    "sns.boxplot(df2['Current_Ratio[Latest]'],orient = 'H', ax= axes[4][1])"
   ]
  },
  {
   "cell_type": "code",
   "execution_count": 39,
   "id": "b7653802",
   "metadata": {
    "id": "7de2dec5",
    "outputId": "b8c3f8ed-5ecf-476c-8eb0-c0b1e0707529"
   },
   "outputs": [
    {
     "data": {
      "text/plain": [
       "<matplotlib.axes._subplots.AxesSubplot at 0x272b9e83dc0>"
      ]
     },
     "execution_count": 39,
     "metadata": {},
     "output_type": "execute_result"
    },
    {
     "data": {
      "image/png": "[encoded data removed]",
      "text/plain": [
       "<Figure size 1080x1800 with 10 Axes>"
      ]
     },
     "metadata": {
      "needs_background": "light"
     },
     "output_type": "display_data"
    }
   ],
   "source": [
    "fig,axes = plt.subplots(nrows= 5, ncols=2)\n",
    "fig.set_size_inches(15,25)\n",
    "\n",
    "sns.distplot(df2['APATM_perc[Latest]'], ax= axes[0][0])\n",
    "sns.boxplot(df2['APATM_perc[Latest]'],orient = 'H', ax= axes[0][1])\n",
    "\n",
    "sns.distplot(df2['ROG-CP_perc'], ax= axes[1][0])\n",
    "sns.boxplot(df2['ROG-CP_perc'],orient = 'H', ax= axes[1][1])\n",
    "\n",
    "sns.distplot(df2['Value_of_Output_by_Total_Assets'], ax= axes[2][0])\n",
    "sns.boxplot(df2['Value_of_Output_by_Total_Assets'],orient = 'H', ax= axes[2][1])\n",
    "\n",
    "sns.distplot(df2['Net_Sales'], ax= axes[3][0])\n",
    "sns.boxplot(df2['Net_Sales'],orient = 'H', ax= axes[3][1])\n",
    "\n",
    "sns.distplot(df2['Book_Value_Adj._Unit_Curr'], ax= axes[4][0])\n",
    "sns.boxplot(df2['Book_Value_Adj._Unit_Curr'],orient = 'H', ax= axes[4][1])"
   ]
  },
  {
   "cell_type": "code",
   "execution_count": 40,
   "id": "73a08a77",
   "metadata": {
    "id": "a1b6e488",
    "outputId": "aa408740-93e3-480f-baf3-a5eabb3b8209",
    "scrolled": true
   },
   "outputs": [
    {
     "ename": "TypeError",
     "evalue": "catplot() got multiple values for argument 'data'",
     "output_type": "error",
     "traceback": [
      "\u001b[1;31m---------------------------------------------------------------------------\u001b[0m",
      "\u001b[1;31mTypeError\u001b[0m                                 Traceback (most recent call last)",
      "\u001b[1;32m<ipython-input-40-0c5a741cd67e>\u001b[0m in \u001b[0;36m<module>\u001b[1;34m\u001b[0m\n\u001b[1;32m----> 1\u001b[1;33m \u001b[0msns\u001b[0m\u001b[1;33m.\u001b[0m\u001b[0mcatplot\u001b[0m\u001b[1;33m(\u001b[0m\u001b[1;34m'default'\u001b[0m\u001b[1;33m,\u001b[0m \u001b[0mdata\u001b[0m \u001b[1;33m=\u001b[0m \u001b[0mdf2\u001b[0m\u001b[1;33m,\u001b[0m \u001b[0mkind\u001b[0m \u001b[1;33m=\u001b[0m \u001b[1;34m'count'\u001b[0m\u001b[1;33m,\u001b[0m\u001b[0maspect\u001b[0m \u001b[1;33m=\u001b[0m \u001b[1;36m1.5\u001b[0m\u001b[1;33m,\u001b[0m \u001b[0mpalette\u001b[0m \u001b[1;33m=\u001b[0m \u001b[1;34m'mako'\u001b[0m\u001b[1;33m)\u001b[0m\u001b[1;33m\u001b[0m\u001b[1;33m\u001b[0m\u001b[0m\n\u001b[0m\u001b[0;32m      2\u001b[0m \u001b[0mplt\u001b[0m\u001b[1;33m.\u001b[0m\u001b[0mtitle\u001b[0m\u001b[1;33m(\u001b[0m\u001b[1;34m\"Figure: Countplot of Target Variable Default\"\u001b[0m\u001b[1;33m)\u001b[0m\u001b[1;33m\u001b[0m\u001b[1;33m\u001b[0m\u001b[0m\n",
      "\u001b[1;31mTypeError\u001b[0m: catplot() got multiple values for argument 'data'"
     ]
    }
   ],
   "source": [
    "sns.catplot('default', data = df2, kind = 'count',aspect = 1.5, palette = 'mako')\n",
    "plt.title(\"Figure: Countplot of Target Variable Default\")"
   ]
  },
  {
   "cell_type": "markdown",
   "id": "be20c29e",
   "metadata": {},
   "source": [
    "###  Bivariate Analysis "
   ]
  },
  {
   "cell_type": "code",
   "execution_count": null,
   "id": "930789be",
   "metadata": {
    "id": "7058b223",
    "outputId": "91fabe50-c4ae-4c48-ac09-6ee21df2711e"
   },
   "outputs": [],
   "source": [
    "# (Gross Sales Vs Net Sales)\n",
    "\n",
    "sns.jointplot(x = df2['Gross_Sales'],\n",
    "y = df2['Net_Sales'])"
   ]
  },
  {
   "cell_type": "markdown",
   "id": "425be031",
   "metadata": {
    "id": "9d3f0f4e"
   },
   "source": [
    "IN this exists linear relationship between these two important variables."
   ]
  },
  {
   "cell_type": "code",
   "execution_count": null,
   "id": "02abedae",
   "metadata": {
    "id": "53e75e1b",
    "outputId": "929ab4ca-6143-4a91-e84d-85188f771e7b"
   },
   "outputs": [],
   "source": [
    "# Networth Vs Capital Employment\n",
    "sns.jointplot(x = df2['Networth'],\n",
    "y = df1['Capital_Employed'])"
   ]
  },
  {
   "cell_type": "markdown",
   "id": "a4bf2626",
   "metadata": {
    "id": "82f11e3a"
   },
   "source": [
    "As the capital increases, net worth also increases. But in some cases capital seems to be disbursed even\n",
    "for lesser networth"
   ]
  },
  {
   "cell_type": "code",
   "execution_count": null,
   "id": "efa2a40f",
   "metadata": {
    "id": "5a56c4ab",
    "outputId": "868961e2-8905-4e20-929d-4ce12c223d36"
   },
   "outputs": [],
   "source": [
    "# Networth Vs Cost of Production\n",
    "sns.jointplot(x = df2['Networth'],\n",
    "y = df1['Cost_of_Production'])"
   ]
  },
  {
   "cell_type": "markdown",
   "id": "96376bc4",
   "metadata": {
    "id": "93dd6583"
   },
   "source": [
    "In this plot is scattered and there exists no such relationship between these two variables."
   ]
  },
  {
   "cell_type": "code",
   "execution_count": null,
   "id": "8a4d5f1a",
   "metadata": {
    "id": "18135ed6",
    "outputId": "c85e8386-63f0-48d3-9b83-e47e182e9d0a"
   },
   "outputs": [],
   "source": [
    "# Default vs ROG-Net_Worth_perc\n",
    "sns.boxplot(x = df2['default'],\n",
    "y = df1['ROG-Net_Worth_perc'])"
   ]
  },
  {
   "cell_type": "code",
   "execution_count": null,
   "id": "c2e30e1b",
   "metadata": {
    "id": "7df9bdb3"
   },
   "outputs": [],
   "source": [
    "# As per Regression Feature Elimination(RFE) \n",
    "df_imp =pd.DataFrame(df2,columns=['Net_Sales','Value_Of_Output', 'PBIDT', 'PBDT', 'PBIT', 'Revenue_earnings_in_forex', 'Revenue_expenses_in_forex', 'Book_Value_Unit_Curr',\n",
    "                                     'ROG-Net_Worth_perc', 'ROG-Capital_Employed_perc', 'ROG-Total_Assets_perc', 'Current_Ratio[Latest]', 'Fixed_Assets_Ratio[Latest]',\n",
    "                                     'Inventory_Ratio[Latest]', 'Total_Asset_Turnover_Ratio[Latest]', 'Interest_Cover_Ratio[Latest]', 'APATM_perc[Latest]', 'Values_of_Output_to_Total_Assests',\n",
    "                                     'Value_of_Output_to_Gross_Block', 'default'])"
   ]
  },
  {
   "cell_type": "code",
   "execution_count": null,
   "id": "7ee788c9",
   "metadata": {
    "id": "3b670db5",
    "outputId": "9d4644bb-e1c7-4c80-e2ce-0d5c06a670ea"
   },
   "outputs": [],
   "source": [
    "# Correlation Heatmap\n",
    "plt.figure(figsize = (12,8))\n",
    "cor_matrix = df_imp.corr()\n",
    "sns.heatmap(cor_matrix, cmap = 'plasma', vmin = -1, vmax= 1)"
   ]
  },
  {
   "cell_type": "markdown",
   "id": "67b9e5f0",
   "metadata": {
    "id": "f5bb02a4"
   },
   "source": [
    "# 1.5 Train Test Split"
   ]
  },
  {
   "cell_type": "markdown",
   "id": "6be91880",
   "metadata": {
    "id": "ce98e842"
   },
   "source": [
    "1. Split the data into Train and Test dataset in a ratio of 67:33 and use random_state = 42.\n",
    "2. Model Building is to be done on Train Dataset and Model Validation is to be done on Test Dataset"
   ]
  },
  {
   "cell_type": "code",
   "execution_count": 43,
   "id": "89313ae7",
   "metadata": {
    "id": "f0280d04"
   },
   "outputs": [],
   "source": [
    "X = df2.drop(['default','Networth_Next_Year'], axis=1)\n",
    "y = df2['default']"
   ]
  },
  {
   "cell_type": "code",
   "execution_count": null,
   "id": "d6554600",
   "metadata": {
    "id": "71a2dc11",
    "outputId": "76548642-4c65-4bf8-ac36-bba746f146be"
   },
   "outputs": [],
   "source": [
    "X.head()"
   ]
  },
  {
   "cell_type": "code",
   "execution_count": null,
   "id": "224dea63",
   "metadata": {
    "id": "36bdeaae",
    "outputId": "593a1599-b336-409d-d68b-84fcd01a8ab3"
   },
   "outputs": [],
   "source": [
    "y.head()"
   ]
  },
  {
   "cell_type": "code",
   "execution_count": 44,
   "id": "759dc8e7",
   "metadata": {
    "id": "20af2f74"
   },
   "outputs": [],
   "source": [
    "#Split X and y into training and test set in 67:33 ratio\n",
    "from sklearn.model_selection import train_test_split\n",
    "X_train, X_test, y_train, y_test = train_test_split(X,y,test_size=0.33,random_state=42,stratify=df2['default'])"
   ]
  },
  {
   "cell_type": "code",
   "execution_count": 45,
   "id": "839418fd",
   "metadata": {
    "id": "ce1f409d"
   },
   "outputs": [],
   "source": [
    "from sklearn.preprocessing import StandardScaler\n",
    "scaler=StandardScaler() \n",
    "scaled_predictors = pd.DataFrame(scaler.fit_transform(X), columns = X.columns)"
   ]
  },
  {
   "cell_type": "code",
   "execution_count": 46,
   "id": "b3349a04",
   "metadata": {
    "id": "db901d78"
   },
   "outputs": [],
   "source": [
    "df3 = pd.concat([scaled_predictors, y], axis = 1)"
   ]
  },
  {
   "cell_type": "code",
   "execution_count": 47,
   "id": "3e67a438",
   "metadata": {
    "id": "f0f6949a",
    "outputId": "f6527bb9-4cac-48d8-a0bd-be8ebeb05a47"
   },
   "outputs": [
    {
     "data": {
      "text/plain": [
       "(2402, 64)"
      ]
     },
     "execution_count": 47,
     "metadata": {},
     "output_type": "execute_result"
    }
   ],
   "source": [
    "# we are scaling the data for ANN. Without scaling it will give very poor results\n",
    "X_train_scaled=scaler.fit_transform(X_train)\n",
    "X_test_scaled=scaler.transform(X_test)\n",
    "X_train_scaled.shape"
   ]
  },
  {
   "cell_type": "code",
   "execution_count": null,
   "id": "c9dfff7c",
   "metadata": {
    "id": "2274f0d1",
    "outputId": "95bf52b1-d9a2-446d-f5c9-9d1dffc215ca"
   },
   "outputs": [],
   "source": [
    "# scaled Train data first 5 rows\n",
    "X_train.head()"
   ]
  },
  {
   "cell_type": "code",
   "execution_count": null,
   "id": "7e46f2ff",
   "metadata": {
    "id": "661d4bda",
    "outputId": "235be1e5-276c-4fe3-a86f-08a87ec918a1"
   },
   "outputs": [],
   "source": [
    "# scaled Test data first 5 rows\n",
    "X_test.head()"
   ]
  },
  {
   "cell_type": "code",
   "execution_count": null,
   "id": "4b896929",
   "metadata": {
    "id": "7e923768",
    "outputId": "37e561e5-6581-40a6-fca6-49543a3db68f"
   },
   "outputs": [],
   "source": [
    "X_train.columns"
   ]
  },
  {
   "cell_type": "code",
   "execution_count": null,
   "id": "68062639",
   "metadata": {
    "id": "fc1e6a23",
    "outputId": "35f613e3-8b0e-4768-a17d-64e93d92060f"
   },
   "outputs": [],
   "source": [
    "y_train.value_counts(1)"
   ]
  },
  {
   "cell_type": "code",
   "execution_count": null,
   "id": "d0d349e2",
   "metadata": {
    "id": "16bca0e2",
    "outputId": "800c66ca-7020-4ccf-aed6-1ad029fd64b0"
   },
   "outputs": [],
   "source": [
    "y_test.value_counts(1)"
   ]
  },
  {
   "cell_type": "code",
   "execution_count": null,
   "id": "7838941c",
   "metadata": {
    "id": "f308fee6",
    "outputId": "84a1325d-ccf8-443b-c505-73744f51bb13"
   },
   "outputs": [],
   "source": [
    "#Number of rows and columns of the training set for the independent variables: \n",
    "X_train.shape[0]"
   ]
  },
  {
   "cell_type": "code",
   "execution_count": null,
   "id": "889916d9",
   "metadata": {
    "id": "ae2c59b2",
    "outputId": "4916bc21-3c0f-4cff-ef7f-2c42548e9c98"
   },
   "outputs": [],
   "source": [
    "#Number of rows and columns of the test set for the independent variables: \n",
    "X_test.shape[0]"
   ]
  },
  {
   "cell_type": "markdown",
   "id": "f23769d5",
   "metadata": {
    "id": "75e8e636"
   },
   "source": [
    "## 1.6 Build Logistic Regression Model (using statsmodel library) on most important variables on Train Dataset and choose the optimum cutoff."
   ]
  },
  {
   "cell_type": "markdown",
   "id": "07f66b44",
   "metadata": {
    "id": "23ef9f2c"
   },
   "source": [
    "### The equation of the Logistic Regression by which we predict the corresponding probabilities and then go on predict a discrete target variable is\n",
    "y =  11+𝑒−𝑧, where z =  𝛽0  + ∑𝑛𝑖=1(𝛽𝑖𝑋1)\n",
    "    "
   ]
  },
  {
   "cell_type": "markdown",
   "id": "679e1d1b",
   "metadata": {},
   "source": [
    " "
   ]
  },
  {
   "cell_type": "markdown",
   "id": "b05f1ebe",
   "metadata": {
    "id": "8586a107"
   },
   "source": [
    "Now, Importing statsmodels modules"
   ]
  },
  {
   "cell_type": "code",
   "execution_count": 48,
   "id": "b9f1483e",
   "metadata": {
    "id": "4880f4d4"
   },
   "outputs": [],
   "source": [
    "from sklearn.feature_selection import RFE\n",
    "from sklearn.linear_model import LogisticRegression\n",
    "import statsmodels.formula.api as SM"
   ]
  },
  {
   "cell_type": "code",
   "execution_count": 49,
   "id": "74909439",
   "metadata": {
    "id": "f3f23eee"
   },
   "outputs": [],
   "source": [
    "# For modeling we will use Logistic Regression with recursive feature elimination\n",
    "\n",
    "LogR = LogisticRegression()"
   ]
  },
  {
   "cell_type": "code",
   "execution_count": 50,
   "id": "809520c4",
   "metadata": {
    "id": "0daf2729"
   },
   "outputs": [],
   "source": [
    "selector = RFE(estimator = LogR, n_features_to_select=21, step=1)"
   ]
  },
  {
   "cell_type": "code",
   "execution_count": 51,
   "id": "6451102b",
   "metadata": {
    "id": "3f523bec"
   },
   "outputs": [],
   "source": [
    "selector = selector.fit(X_train, y_train)"
   ]
  },
  {
   "cell_type": "code",
   "execution_count": 52,
   "id": "67b35570",
   "metadata": {
    "id": "0e55a2d9",
    "outputId": "eb52e4ad-262d-49c2-dfb0-106fb3ff84bc"
   },
   "outputs": [
    {
     "data": {
      "text/plain": [
       "21"
      ]
     },
     "execution_count": 52,
     "metadata": {},
     "output_type": "execute_result"
    }
   ],
   "source": [
    "selector.n_features_"
   ]
  },
  {
   "cell_type": "code",
   "execution_count": 53,
   "id": "2e3a51b4",
   "metadata": {
    "id": "e5ebfb48",
    "outputId": "26624cf4-6bd5-45e7-d6cd-d1c49342c0cf"
   },
   "outputs": [
    {
     "data": {
      "text/plain": [
       "array([ 3, 33, 11,  6, 35, 13, 14, 24, 19,  9,  1, 17,  1, 12, 21,  2,  1,\n",
       "        1, 23, 26, 36, 18,  1,  1, 42,  1,  1, 16, 10, 34,  4, 20,  1,  1,\n",
       "        1,  7,  8, 15,  1, 29, 27, 30, 41, 40, 31, 44, 43, 32,  1,  1,  1,\n",
       "       37,  1,  1,  5,  1, 25, 28,  1, 22, 39, 38,  1,  1])"
      ]
     },
     "execution_count": 53,
     "metadata": {},
     "output_type": "execute_result"
    }
   ],
   "source": [
    "selector.ranking_"
   ]
  },
  {
   "cell_type": "code",
   "execution_count": 54,
   "id": "8efbc6de",
   "metadata": {
    "id": "ccad7ffb",
    "outputId": "837ddd23-07ed-4f35-8faf-0e6b6be41a25"
   },
   "outputs": [
    {
     "data": {
      "text/html": [
       "<div>\n",
       "<style scoped>\n",
       "    .dataframe tbody tr th:only-of-type {\n",
       "        vertical-align: middle;\n",
       "    }\n",
       "\n",
       "    .dataframe tbody tr th {\n",
       "        vertical-align: top;\n",
       "    }\n",
       "\n",
       "    .dataframe thead th {\n",
       "        text-align: right;\n",
       "    }\n",
       "</style>\n",
       "<table border=\"1\" class=\"dataframe\">\n",
       "  <thead>\n",
       "    <tr style=\"text-align: right;\">\n",
       "      <th></th>\n",
       "      <th>Feature</th>\n",
       "      <th>Rank</th>\n",
       "    </tr>\n",
       "  </thead>\n",
       "  <tbody>\n",
       "    <tr>\n",
       "      <th>10</th>\n",
       "      <td>Net_Sales</td>\n",
       "      <td>1</td>\n",
       "    </tr>\n",
       "    <tr>\n",
       "      <th>12</th>\n",
       "      <td>Value_Of_Output</td>\n",
       "      <td>1</td>\n",
       "    </tr>\n",
       "    <tr>\n",
       "      <th>16</th>\n",
       "      <td>PBDT</td>\n",
       "      <td>1</td>\n",
       "    </tr>\n",
       "    <tr>\n",
       "      <th>17</th>\n",
       "      <td>PBIT</td>\n",
       "      <td>1</td>\n",
       "    </tr>\n",
       "    <tr>\n",
       "      <th>22</th>\n",
       "      <td>Revenue_earnings_in_forex</td>\n",
       "      <td>1</td>\n",
       "    </tr>\n",
       "    <tr>\n",
       "      <th>23</th>\n",
       "      <td>Revenue_expenses_in_forex</td>\n",
       "      <td>1</td>\n",
       "    </tr>\n",
       "    <tr>\n",
       "      <th>25</th>\n",
       "      <td>Book_Value_Unit_Curr</td>\n",
       "      <td>1</td>\n",
       "    </tr>\n",
       "    <tr>\n",
       "      <th>26</th>\n",
       "      <td>Book_Value_Adj._Unit_Curr</td>\n",
       "      <td>1</td>\n",
       "    </tr>\n",
       "    <tr>\n",
       "      <th>32</th>\n",
       "      <td>ROG-Net_Worth_perc</td>\n",
       "      <td>1</td>\n",
       "    </tr>\n",
       "    <tr>\n",
       "      <th>33</th>\n",
       "      <td>ROG-Capital_Employed_perc</td>\n",
       "      <td>1</td>\n",
       "    </tr>\n",
       "    <tr>\n",
       "      <th>34</th>\n",
       "      <td>ROG-Gross_Block_perc</td>\n",
       "      <td>1</td>\n",
       "    </tr>\n",
       "    <tr>\n",
       "      <th>38</th>\n",
       "      <td>ROG-Total_Assets_perc</td>\n",
       "      <td>1</td>\n",
       "    </tr>\n",
       "    <tr>\n",
       "      <th>48</th>\n",
       "      <td>Current_Ratio[Latest]</td>\n",
       "      <td>1</td>\n",
       "    </tr>\n",
       "    <tr>\n",
       "      <th>49</th>\n",
       "      <td>Fixed_Assets_Ratio[Latest]</td>\n",
       "      <td>1</td>\n",
       "    </tr>\n",
       "    <tr>\n",
       "      <th>50</th>\n",
       "      <td>Inventory_Ratio[Latest]</td>\n",
       "      <td>1</td>\n",
       "    </tr>\n",
       "    <tr>\n",
       "      <th>52</th>\n",
       "      <td>Total_Asset_Turnover_Ratio[Latest]</td>\n",
       "      <td>1</td>\n",
       "    </tr>\n",
       "    <tr>\n",
       "      <th>53</th>\n",
       "      <td>Interest_Cover_Ratio[Latest]</td>\n",
       "      <td>1</td>\n",
       "    </tr>\n",
       "    <tr>\n",
       "      <th>55</th>\n",
       "      <td>PBITM_perc[Latest]</td>\n",
       "      <td>1</td>\n",
       "    </tr>\n",
       "    <tr>\n",
       "      <th>58</th>\n",
       "      <td>APATM_perc[Latest]</td>\n",
       "      <td>1</td>\n",
       "    </tr>\n",
       "    <tr>\n",
       "      <th>62</th>\n",
       "      <td>Value_of_Output_by_Total_Assets</td>\n",
       "      <td>1</td>\n",
       "    </tr>\n",
       "    <tr>\n",
       "      <th>63</th>\n",
       "      <td>Value_of_Output_by_Gross_Block</td>\n",
       "      <td>1</td>\n",
       "    </tr>\n",
       "  </tbody>\n",
       "</table>\n",
       "</div>"
      ],
      "text/plain": [
       "                               Feature  Rank\n",
       "10                           Net_Sales     1\n",
       "12                     Value_Of_Output     1\n",
       "16                                PBDT     1\n",
       "17                                PBIT     1\n",
       "22           Revenue_earnings_in_forex     1\n",
       "23           Revenue_expenses_in_forex     1\n",
       "25                Book_Value_Unit_Curr     1\n",
       "26           Book_Value_Adj._Unit_Curr     1\n",
       "32                  ROG-Net_Worth_perc     1\n",
       "33           ROG-Capital_Employed_perc     1\n",
       "34                ROG-Gross_Block_perc     1\n",
       "38               ROG-Total_Assets_perc     1\n",
       "48               Current_Ratio[Latest]     1\n",
       "49          Fixed_Assets_Ratio[Latest]     1\n",
       "50             Inventory_Ratio[Latest]     1\n",
       "52  Total_Asset_Turnover_Ratio[Latest]     1\n",
       "53        Interest_Cover_Ratio[Latest]     1\n",
       "55                  PBITM_perc[Latest]     1\n",
       "58                  APATM_perc[Latest]     1\n",
       "62     Value_of_Output_by_Total_Assets     1\n",
       "63      Value_of_Output_by_Gross_Block     1"
      ]
     },
     "execution_count": 54,
     "metadata": {},
     "output_type": "execute_result"
    }
   ],
   "source": [
    "df = pd.DataFrame({'Feature': scaled_predictors.columns, 'Rank': selector.ranking_})\n",
    "df[df['Rank'] == 1]"
   ]
  },
  {
   "cell_type": "code",
   "execution_count": 55,
   "id": "fee7c338",
   "metadata": {
    "id": "933e2596"
   },
   "outputs": [],
   "source": [
    "from sklearn.model_selection import GridSearchCV"
   ]
  },
  {
   "cell_type": "code",
   "execution_count": 56,
   "id": "6debd4a0",
   "metadata": {
    "id": "fe52c40e"
   },
   "outputs": [],
   "source": [
    "grid={'penalty':['l2','none'],\n",
    "      'solver':['sag','lbfgs'],\n",
    "      'tol':[0.0001,0.00001]}"
   ]
  },
  {
   "cell_type": "code",
   "execution_count": 57,
   "id": "b7fc9316",
   "metadata": {
    "id": "4fca2391"
   },
   "outputs": [],
   "source": [
    "model = LogisticRegression(max_iter=10000,n_jobs=2)"
   ]
  },
  {
   "cell_type": "code",
   "execution_count": 58,
   "id": "16b676bf",
   "metadata": {
    "id": "d8b98631"
   },
   "outputs": [],
   "source": [
    "grid_search = GridSearchCV(estimator = model, param_grid = grid, cv = 3,n_jobs=-1,scoring='f1')"
   ]
  },
  {
   "cell_type": "code",
   "execution_count": 59,
   "id": "1c1939c8",
   "metadata": {
    "id": "a8e4d93c",
    "outputId": "02977d0f-c132-41ad-fcab-16ab295bc631"
   },
   "outputs": [
    {
     "data": {
      "text/html": [
       "<style>#sk-container-id-1 {color: black;background-color: white;}#sk-container-id-1 pre{padding: 0;}#sk-container-id-1 div.sk-toggleable {background-color: white;}#sk-container-id-1 label.sk-toggleable__label {cursor: pointer;display: block;width: 100%;margin-bottom: 0;padding: 0.3em;box-sizing: border-box;text-align: center;}#sk-container-id-1 label.sk-toggleable__label-arrow:before {content: \"▸\";float: left;margin-right: 0.25em;color: #696969;}#sk-container-id-1 label.sk-toggleable__label-arrow:hover:before {color: black;}#sk-container-id-1 div.sk-estimator:hover label.sk-toggleable__label-arrow:before {color: black;}#sk-container-id-1 div.sk-toggleable__content {max-height: 0;max-width: 0;overflow: hidden;text-align: left;background-color: #f0f8ff;}#sk-container-id-1 div.sk-toggleable__content pre {margin: 0.2em;color: black;border-radius: 0.25em;background-color: #f0f8ff;}#sk-container-id-1 input.sk-toggleable__control:checked~div.sk-toggleable__content {max-height: 200px;max-width: 100%;overflow: auto;}#sk-container-id-1 input.sk-toggleable__control:checked~label.sk-toggleable__label-arrow:before {content: \"▾\";}#sk-container-id-1 div.sk-estimator input.sk-toggleable__control:checked~label.sk-toggleable__label {background-color: #d4ebff;}#sk-container-id-1 div.sk-label input.sk-toggleable__control:checked~label.sk-toggleable__label {background-color: #d4ebff;}#sk-container-id-1 input.sk-hidden--visually {border: 0;clip: rect(1px 1px 1px 1px);clip: rect(1px, 1px, 1px, 1px);height: 1px;margin: -1px;overflow: hidden;padding: 0;position: absolute;width: 1px;}#sk-container-id-1 div.sk-estimator {font-family: monospace;background-color: #f0f8ff;border: 1px dotted black;border-radius: 0.25em;box-sizing: border-box;margin-bottom: 0.5em;}#sk-container-id-1 div.sk-estimator:hover {background-color: #d4ebff;}#sk-container-id-1 div.sk-parallel-item::after {content: \"\";width: 100%;border-bottom: 1px solid gray;flex-grow: 1;}#sk-container-id-1 div.sk-label:hover label.sk-toggleable__label {background-color: #d4ebff;}#sk-container-id-1 div.sk-serial::before {content: \"\";position: absolute;border-left: 1px solid gray;box-sizing: border-box;top: 0;bottom: 0;left: 50%;z-index: 0;}#sk-container-id-1 div.sk-serial {display: flex;flex-direction: column;align-items: center;background-color: white;padding-right: 0.2em;padding-left: 0.2em;position: relative;}#sk-container-id-1 div.sk-item {position: relative;z-index: 1;}#sk-container-id-1 div.sk-parallel {display: flex;align-items: stretch;justify-content: center;background-color: white;position: relative;}#sk-container-id-1 div.sk-item::before, #sk-container-id-1 div.sk-parallel-item::before {content: \"\";position: absolute;border-left: 1px solid gray;box-sizing: border-box;top: 0;bottom: 0;left: 50%;z-index: -1;}#sk-container-id-1 div.sk-parallel-item {display: flex;flex-direction: column;z-index: 1;position: relative;background-color: white;}#sk-container-id-1 div.sk-parallel-item:first-child::after {align-self: flex-end;width: 50%;}#sk-container-id-1 div.sk-parallel-item:last-child::after {align-self: flex-start;width: 50%;}#sk-container-id-1 div.sk-parallel-item:only-child::after {width: 0;}#sk-container-id-1 div.sk-dashed-wrapped {border: 1px dashed gray;margin: 0 0.4em 0.5em 0.4em;box-sizing: border-box;padding-bottom: 0.4em;background-color: white;}#sk-container-id-1 div.sk-label label {font-family: monospace;font-weight: bold;display: inline-block;line-height: 1.2em;}#sk-container-id-1 div.sk-label-container {text-align: center;}#sk-container-id-1 div.sk-container {/* jupyter's `normalize.less` sets `[hidden] { display: none; }` but bootstrap.min.css set `[hidden] { display: none !important; }` so we also need the `!important` here to be able to override the default hidden behavior on the sphinx rendered scikit-learn.org. See: https://github.com/scikit-learn/scikit-learn/issues/21755 */display: inline-block !important;position: relative;}#sk-container-id-1 div.sk-text-repr-fallback {display: none;}</style><div id=\"sk-container-id-1\" class=\"sk-top-container\"><div class=\"sk-text-repr-fallback\"><pre>GridSearchCV(cv=3, estimator=LogisticRegression(max_iter=10000, n_jobs=2),\n",
       "             n_jobs=-1,\n",
       "             param_grid={&#x27;penalty&#x27;: [&#x27;l2&#x27;, &#x27;none&#x27;], &#x27;solver&#x27;: [&#x27;sag&#x27;, &#x27;lbfgs&#x27;],\n",
       "                         &#x27;tol&#x27;: [0.0001, 1e-05]},\n",
       "             scoring=&#x27;f1&#x27;)</pre><b>In a Jupyter environment, please rerun this cell to show the HTML representation or trust the notebook. <br />On GitHub, the HTML representation is unable to render, please try loading this page with nbviewer.org.</b></div><div class=\"sk-container\" hidden><div class=\"sk-item sk-dashed-wrapped\"><div class=\"sk-label-container\"><div class=\"sk-label sk-toggleable\"><input class=\"sk-toggleable__control sk-hidden--visually\" id=\"sk-estimator-id-1\" type=\"checkbox\" ><label for=\"sk-estimator-id-1\" class=\"sk-toggleable__label sk-toggleable__label-arrow\">GridSearchCV</label><div class=\"sk-toggleable__content\"><pre>GridSearchCV(cv=3, estimator=LogisticRegression(max_iter=10000, n_jobs=2),\n",
       "             n_jobs=-1,\n",
       "             param_grid={&#x27;penalty&#x27;: [&#x27;l2&#x27;, &#x27;none&#x27;], &#x27;solver&#x27;: [&#x27;sag&#x27;, &#x27;lbfgs&#x27;],\n",
       "                         &#x27;tol&#x27;: [0.0001, 1e-05]},\n",
       "             scoring=&#x27;f1&#x27;)</pre></div></div></div><div class=\"sk-parallel\"><div class=\"sk-parallel-item\"><div class=\"sk-item\"><div class=\"sk-label-container\"><div class=\"sk-label sk-toggleable\"><input class=\"sk-toggleable__control sk-hidden--visually\" id=\"sk-estimator-id-2\" type=\"checkbox\" ><label for=\"sk-estimator-id-2\" class=\"sk-toggleable__label sk-toggleable__label-arrow\">estimator: LogisticRegression</label><div class=\"sk-toggleable__content\"><pre>LogisticRegression(max_iter=10000, n_jobs=2)</pre></div></div></div><div class=\"sk-serial\"><div class=\"sk-item\"><div class=\"sk-estimator sk-toggleable\"><input class=\"sk-toggleable__control sk-hidden--visually\" id=\"sk-estimator-id-3\" type=\"checkbox\" ><label for=\"sk-estimator-id-3\" class=\"sk-toggleable__label sk-toggleable__label-arrow\">LogisticRegression</label><div class=\"sk-toggleable__content\"><pre>LogisticRegression(max_iter=10000, n_jobs=2)</pre></div></div></div></div></div></div></div></div></div></div>"
      ],
      "text/plain": [
       "GridSearchCV(cv=3, estimator=LogisticRegression(max_iter=10000, n_jobs=2),\n",
       "             n_jobs=-1,\n",
       "             param_grid={'penalty': ['l2', 'none'], 'solver': ['sag', 'lbfgs'],\n",
       "                         'tol': [0.0001, 1e-05]},\n",
       "             scoring='f1')"
      ]
     },
     "execution_count": 59,
     "metadata": {},
     "output_type": "execute_result"
    }
   ],
   "source": [
    "grid_search.fit(X_train, y_train)"
   ]
  },
  {
   "cell_type": "code",
   "execution_count": 60,
   "id": "fb441649",
   "metadata": {
    "id": "f7ff6eb2",
    "outputId": "43389c15-5c99-45d5-d28d-6944a01f404e"
   },
   "outputs": [
    {
     "name": "stdout",
     "output_type": "stream",
     "text": [
      "{'penalty': 'none', 'solver': 'lbfgs', 'tol': 0.0001} \n",
      "\n",
      "LogisticRegression(max_iter=10000, n_jobs=2, penalty='none')\n"
     ]
    }
   ],
   "source": [
    "print(grid_search.best_params_,'\\n')\n",
    "print(grid_search.best_estimator_)"
   ]
  },
  {
   "cell_type": "code",
   "execution_count": 61,
   "id": "fa788bb3",
   "metadata": {
    "id": "ffc56ae6"
   },
   "outputs": [],
   "source": [
    "best_model = grid_search.best_estimator_"
   ]
  },
  {
   "cell_type": "code",
   "execution_count": 62,
   "id": "235154a0",
   "metadata": {
    "id": "29f754e5"
   },
   "outputs": [],
   "source": [
    "# Prediction on the training set\n",
    "\n",
    "ytrain_predict = best_model.predict(X_train)\n",
    "ytest_predict = best_model.predict(X_test)"
   ]
  },
  {
   "cell_type": "code",
   "execution_count": 63,
   "id": "4db8b3ff",
   "metadata": {
    "id": "eaae7fe6",
    "outputId": "1bb52d52-e824-4784-81a2-4acac60b5a7e"
   },
   "outputs": [
    {
     "data": {
      "text/html": [
       "<div>\n",
       "<style scoped>\n",
       "    .dataframe tbody tr th:only-of-type {\n",
       "        vertical-align: middle;\n",
       "    }\n",
       "\n",
       "    .dataframe tbody tr th {\n",
       "        vertical-align: top;\n",
       "    }\n",
       "\n",
       "    .dataframe thead th {\n",
       "        text-align: right;\n",
       "    }\n",
       "</style>\n",
       "<table border=\"1\" class=\"dataframe\">\n",
       "  <thead>\n",
       "    <tr style=\"text-align: right;\">\n",
       "      <th></th>\n",
       "      <th>0</th>\n",
       "      <th>1</th>\n",
       "    </tr>\n",
       "  </thead>\n",
       "  <tbody>\n",
       "    <tr>\n",
       "      <th>0</th>\n",
       "      <td>0.42</td>\n",
       "      <td>0.58</td>\n",
       "    </tr>\n",
       "    <tr>\n",
       "      <th>1</th>\n",
       "      <td>1.00</td>\n",
       "      <td>0.00</td>\n",
       "    </tr>\n",
       "    <tr>\n",
       "      <th>2</th>\n",
       "      <td>1.00</td>\n",
       "      <td>0.00</td>\n",
       "    </tr>\n",
       "    <tr>\n",
       "      <th>3</th>\n",
       "      <td>0.99</td>\n",
       "      <td>0.01</td>\n",
       "    </tr>\n",
       "    <tr>\n",
       "      <th>4</th>\n",
       "      <td>1.00</td>\n",
       "      <td>0.00</td>\n",
       "    </tr>\n",
       "  </tbody>\n",
       "</table>\n",
       "</div>"
      ],
      "text/plain": [
       "     0    1\n",
       "0 0.42 0.58\n",
       "1 1.00 0.00\n",
       "2 1.00 0.00\n",
       "3 0.99 0.01\n",
       "4 1.00 0.00"
      ]
     },
     "execution_count": 63,
     "metadata": {},
     "output_type": "execute_result"
    }
   ],
   "source": [
    "# Getting the probabilities on the test set\n",
    "\n",
    "ytest_predict_prob=best_model.predict_proba(X_test)\n",
    "pd.DataFrame(ytest_predict_prob).head()"
   ]
  },
  {
   "cell_type": "markdown",
   "id": "3f9899a4",
   "metadata": {
    "id": "a855b419"
   },
   "source": [
    "## 1.7 Validate the Model on Test Dataset and state the performance matrices."
   ]
  },
  {
   "cell_type": "code",
   "execution_count": 64,
   "id": "90a392f8",
   "metadata": {
    "id": "fbacf831"
   },
   "outputs": [],
   "source": [
    "from sklearn.metrics import roc_auc_score,roc_curve,classification_report,confusion_matrix,plot_confusion_matrix"
   ]
  },
  {
   "cell_type": "code",
   "execution_count": 65,
   "id": "91735a41",
   "metadata": {
    "id": "5bb8d3ce",
    "outputId": "7fcd8362-2653-44ee-d0aa-87c9724a251d"
   },
   "outputs": [
    {
     "name": "stdout",
     "output_type": "stream",
     "text": [
      "              precision    recall  f1-score   support\n",
      "\n",
      "           0       0.97      0.99      0.98      2142\n",
      "           1       0.88      0.75      0.81       260\n",
      "\n",
      "    accuracy                           0.96      2402\n",
      "   macro avg       0.93      0.87      0.89      2402\n",
      "weighted avg       0.96      0.96      0.96      2402\n",
      " \n",
      "\n"
     ]
    },
    {
     "data": {
      "image/png": "[encoded data removed]",
      "text/plain": [
       "<Figure size 432x288 with 2 Axes>"
      ]
     },
     "metadata": {
      "needs_background": "light"
     },
     "output_type": "display_data"
    }
   ],
   "source": [
    "# Confusion matrix on the training data\n",
    "\n",
    "plot_confusion_matrix(best_model,X_train,y_train)\n",
    "print(classification_report(y_train, ytrain_predict),'\\n');"
   ]
  },
  {
   "cell_type": "code",
   "execution_count": 66,
   "id": "c37e4e88",
   "metadata": {
    "id": "123939ae",
    "outputId": "51404e1d-0bff-492a-9d49-7834f440ad82"
   },
   "outputs": [
    {
     "name": "stdout",
     "output_type": "stream",
     "text": [
      "              precision    recall  f1-score   support\n",
      "\n",
      "           0       0.96      0.98      0.97      1056\n",
      "           1       0.81      0.70      0.75       128\n",
      "\n",
      "    accuracy                           0.95      1184\n",
      "   macro avg       0.89      0.84      0.86      1184\n",
      "weighted avg       0.95      0.95      0.95      1184\n",
      " \n",
      "\n"
     ]
    },
    {
     "data": {
      "image/png": "[encoded data removed]",
      "text/plain": [
       "<Figure size 432x288 with 2 Axes>"
      ]
     },
     "metadata": {
      "needs_background": "light"
     },
     "output_type": "display_data"
    }
   ],
   "source": [
    "# Confusion matrix on the test data\n",
    "plot_confusion_matrix(best_model,X_test,y_test)\n",
    "print(classification_report(y_test, ytest_predict),'\\n');"
   ]
  },
  {
   "cell_type": "markdown",
   "id": "c6ced0b2",
   "metadata": {
    "id": "1232d81f"
   },
   "source": [
    "1. We can select other parameters to perform GridSearchCV and try optimize the desired parameter.\n",
    "2. We see not good recall score for both train and test\n",
    "3. Since only 11% of the total data had defaults, we will now try to balance the data before fiting the model.\n"
   ]
  },
  {
   "cell_type": "code",
   "execution_count": 70,
   "id": "0255fcf6",
   "metadata": {
    "id": "35059da5",
    "outputId": "2756fa2c-5845-41b2-d698-b07dab464f9a"
   },
   "outputs": [],
   "source": [
    "# Imblearn over_sampling\n",
    "\n",
    "from imblearn.over_sampling import SMOTE\n",
    "sm = SMOTE(random_state=33)\n",
    "X_res, y_res = sm.fit_resample(X_train, y_train)"
   ]
  },
  {
   "cell_type": "code",
   "execution_count": 71,
   "id": "b0b59752",
   "metadata": {
    "id": "94971aa9",
    "scrolled": false
   },
   "outputs": [
    {
     "data": {
      "text/html": [
       "<div>\n",
       "<style scoped>\n",
       "    .dataframe tbody tr th:only-of-type {\n",
       "        vertical-align: middle;\n",
       "    }\n",
       "\n",
       "    .dataframe tbody tr th {\n",
       "        vertical-align: top;\n",
       "    }\n",
       "\n",
       "    .dataframe thead th {\n",
       "        text-align: right;\n",
       "    }\n",
       "</style>\n",
       "<table border=\"1\" class=\"dataframe\">\n",
       "  <thead>\n",
       "    <tr style=\"text-align: right;\">\n",
       "      <th></th>\n",
       "      <th>Equity_Paid_Up</th>\n",
       "      <th>Networth</th>\n",
       "      <th>Capital_Employed</th>\n",
       "      <th>Total_Debt</th>\n",
       "      <th>Gross_Block</th>\n",
       "      <th>Net_Working_Capital</th>\n",
       "      <th>Current_Assets</th>\n",
       "      <th>Current_Liabilities_and_Provisions</th>\n",
       "      <th>Total_Assets_by_Liabilities</th>\n",
       "      <th>Gross_Sales</th>\n",
       "      <th>...</th>\n",
       "      <th>PBIDTM_perc[Latest]</th>\n",
       "      <th>PBITM_perc[Latest]</th>\n",
       "      <th>PBDTM_perc[Latest]</th>\n",
       "      <th>CPM_perc[Latest]</th>\n",
       "      <th>APATM_perc[Latest]</th>\n",
       "      <th>Debtors_Velocity_Days</th>\n",
       "      <th>Creditors_Velocity_Days</th>\n",
       "      <th>Inventory_Velocity_Days</th>\n",
       "      <th>Value_of_Output_by_Total_Assets</th>\n",
       "      <th>Value_of_Output_by_Gross_Block</th>\n",
       "    </tr>\n",
       "  </thead>\n",
       "  <tbody>\n",
       "    <tr>\n",
       "      <th>0</th>\n",
       "      <td>3.25</td>\n",
       "      <td>3.49</td>\n",
       "      <td>3.54</td>\n",
       "      <td>0.05</td>\n",
       "      <td>1.53</td>\n",
       "      <td>2.94</td>\n",
       "      <td>2.98</td>\n",
       "      <td>0.05</td>\n",
       "      <td>3.59</td>\n",
       "      <td>0.42</td>\n",
       "      <td>...</td>\n",
       "      <td>40.00</td>\n",
       "      <td>30.00</td>\n",
       "      <td>35.27</td>\n",
       "      <td>28.48</td>\n",
       "      <td>18.52</td>\n",
       "      <td>0.00</td>\n",
       "      <td>0.00</td>\n",
       "      <td>0.00</td>\n",
       "      <td>0.11</td>\n",
       "      <td>0.26</td>\n",
       "    </tr>\n",
       "    <tr>\n",
       "      <th>1</th>\n",
       "      <td>4.75</td>\n",
       "      <td>5.29</td>\n",
       "      <td>5.39</td>\n",
       "      <td>0.02</td>\n",
       "      <td>0.75</td>\n",
       "      <td>3.56</td>\n",
       "      <td>3.62</td>\n",
       "      <td>0.06</td>\n",
       "      <td>5.45</td>\n",
       "      <td>1.88</td>\n",
       "      <td>...</td>\n",
       "      <td>-1.12</td>\n",
       "      <td>-6.16</td>\n",
       "      <td>-2.61</td>\n",
       "      <td>-2.61</td>\n",
       "      <td>-7.65</td>\n",
       "      <td>8.00</td>\n",
       "      <td>13.00</td>\n",
       "      <td>7.00</td>\n",
       "      <td>0.90</td>\n",
       "      <td>4.12</td>\n",
       "    </tr>\n",
       "    <tr>\n",
       "      <th>2</th>\n",
       "      <td>13.06</td>\n",
       "      <td>13.50</td>\n",
       "      <td>13.50</td>\n",
       "      <td>0.00</td>\n",
       "      <td>0.00</td>\n",
       "      <td>13.47</td>\n",
       "      <td>13.62</td>\n",
       "      <td>0.15</td>\n",
       "      <td>13.65</td>\n",
       "      <td>0.12</td>\n",
       "      <td>...</td>\n",
       "      <td>1.60</td>\n",
       "      <td>1.60</td>\n",
       "      <td>1.60</td>\n",
       "      <td>1.06</td>\n",
       "      <td>1.06</td>\n",
       "      <td>253.00</td>\n",
       "      <td>0.00</td>\n",
       "      <td>240.00</td>\n",
       "      <td>0.46</td>\n",
       "      <td>0.00</td>\n",
       "    </tr>\n",
       "    <tr>\n",
       "      <th>3</th>\n",
       "      <td>43.17</td>\n",
       "      <td>-60.79</td>\n",
       "      <td>-58.30</td>\n",
       "      <td>2.46</td>\n",
       "      <td>18.66</td>\n",
       "      <td>-84.10</td>\n",
       "      <td>7.69</td>\n",
       "      <td>91.79</td>\n",
       "      <td>33.49</td>\n",
       "      <td>0.76</td>\n",
       "      <td>...</td>\n",
       "      <td>-28.48</td>\n",
       "      <td>-21.43</td>\n",
       "      <td>-21.16</td>\n",
       "      <td>-17.09</td>\n",
       "      <td>-11.12</td>\n",
       "      <td>253.00</td>\n",
       "      <td>15.00</td>\n",
       "      <td>69.00</td>\n",
       "      <td>0.02</td>\n",
       "      <td>0.06</td>\n",
       "    </tr>\n",
       "    <tr>\n",
       "      <th>4</th>\n",
       "      <td>4.00</td>\n",
       "      <td>5.95</td>\n",
       "      <td>20.62</td>\n",
       "      <td>14.33</td>\n",
       "      <td>7.76</td>\n",
       "      <td>7.38</td>\n",
       "      <td>22.22</td>\n",
       "      <td>14.83</td>\n",
       "      <td>35.45</td>\n",
       "      <td>142.80</td>\n",
       "      <td>...</td>\n",
       "      <td>4.29</td>\n",
       "      <td>3.99</td>\n",
       "      <td>3.12</td>\n",
       "      <td>2.10</td>\n",
       "      <td>1.79</td>\n",
       "      <td>53.00</td>\n",
       "      <td>28.00</td>\n",
       "      <td>0.00</td>\n",
       "      <td>2.79</td>\n",
       "      <td>11.87</td>\n",
       "    </tr>\n",
       "    <tr>\n",
       "      <th>...</th>\n",
       "      <td>...</td>\n",
       "      <td>...</td>\n",
       "      <td>...</td>\n",
       "      <td>...</td>\n",
       "      <td>...</td>\n",
       "      <td>...</td>\n",
       "      <td>...</td>\n",
       "      <td>...</td>\n",
       "      <td>...</td>\n",
       "      <td>...</td>\n",
       "      <td>...</td>\n",
       "      <td>...</td>\n",
       "      <td>...</td>\n",
       "      <td>...</td>\n",
       "      <td>...</td>\n",
       "      <td>...</td>\n",
       "      <td>...</td>\n",
       "      <td>...</td>\n",
       "      <td>...</td>\n",
       "      <td>...</td>\n",
       "      <td>...</td>\n",
       "    </tr>\n",
       "    <tr>\n",
       "      <th>4279</th>\n",
       "      <td>7.18</td>\n",
       "      <td>-0.69</td>\n",
       "      <td>0.72</td>\n",
       "      <td>1.39</td>\n",
       "      <td>8.18</td>\n",
       "      <td>-0.26</td>\n",
       "      <td>2.56</td>\n",
       "      <td>2.82</td>\n",
       "      <td>3.54</td>\n",
       "      <td>4.26</td>\n",
       "      <td>...</td>\n",
       "      <td>-4.61</td>\n",
       "      <td>-5.69</td>\n",
       "      <td>-4.91</td>\n",
       "      <td>-4.91</td>\n",
       "      <td>-6.00</td>\n",
       "      <td>46.88</td>\n",
       "      <td>23.44</td>\n",
       "      <td>46.88</td>\n",
       "      <td>0.79</td>\n",
       "      <td>0.35</td>\n",
       "    </tr>\n",
       "    <tr>\n",
       "      <th>4280</th>\n",
       "      <td>5.24</td>\n",
       "      <td>11.14</td>\n",
       "      <td>62.14</td>\n",
       "      <td>49.58</td>\n",
       "      <td>43.70</td>\n",
       "      <td>17.89</td>\n",
       "      <td>27.82</td>\n",
       "      <td>9.92</td>\n",
       "      <td>72.06</td>\n",
       "      <td>31.12</td>\n",
       "      <td>...</td>\n",
       "      <td>36.69</td>\n",
       "      <td>24.85</td>\n",
       "      <td>26.85</td>\n",
       "      <td>25.15</td>\n",
       "      <td>15.00</td>\n",
       "      <td>35.83</td>\n",
       "      <td>103.58</td>\n",
       "      <td>209.97</td>\n",
       "      <td>0.23</td>\n",
       "      <td>0.31</td>\n",
       "    </tr>\n",
       "    <tr>\n",
       "      <th>4281</th>\n",
       "      <td>10.33</td>\n",
       "      <td>-2.82</td>\n",
       "      <td>-2.34</td>\n",
       "      <td>0.00</td>\n",
       "      <td>1.71</td>\n",
       "      <td>-4.41</td>\n",
       "      <td>0.23</td>\n",
       "      <td>4.65</td>\n",
       "      <td>2.31</td>\n",
       "      <td>0.00</td>\n",
       "      <td>...</td>\n",
       "      <td>0.00</td>\n",
       "      <td>0.00</td>\n",
       "      <td>0.00</td>\n",
       "      <td>0.00</td>\n",
       "      <td>0.00</td>\n",
       "      <td>0.00</td>\n",
       "      <td>0.00</td>\n",
       "      <td>0.00</td>\n",
       "      <td>0.00</td>\n",
       "      <td>0.00</td>\n",
       "    </tr>\n",
       "    <tr>\n",
       "      <th>4282</th>\n",
       "      <td>16.99</td>\n",
       "      <td>-82.68</td>\n",
       "      <td>317.22</td>\n",
       "      <td>180.83</td>\n",
       "      <td>169.77</td>\n",
       "      <td>151.52</td>\n",
       "      <td>285.80</td>\n",
       "      <td>101.05</td>\n",
       "      <td>422.80</td>\n",
       "      <td>341.79</td>\n",
       "      <td>...</td>\n",
       "      <td>-28.30</td>\n",
       "      <td>-21.43</td>\n",
       "      <td>-21.16</td>\n",
       "      <td>-17.09</td>\n",
       "      <td>-11.12</td>\n",
       "      <td>253.00</td>\n",
       "      <td>189.10</td>\n",
       "      <td>98.27</td>\n",
       "      <td>-0.02</td>\n",
       "      <td>-0.12</td>\n",
       "    </tr>\n",
       "    <tr>\n",
       "      <th>4283</th>\n",
       "      <td>4.43</td>\n",
       "      <td>-9.03</td>\n",
       "      <td>15.78</td>\n",
       "      <td>19.87</td>\n",
       "      <td>11.15</td>\n",
       "      <td>6.90</td>\n",
       "      <td>18.50</td>\n",
       "      <td>11.59</td>\n",
       "      <td>27.38</td>\n",
       "      <td>7.80</td>\n",
       "      <td>...</td>\n",
       "      <td>-0.98</td>\n",
       "      <td>-6.09</td>\n",
       "      <td>-5.63</td>\n",
       "      <td>-5.63</td>\n",
       "      <td>-8.46</td>\n",
       "      <td>224.57</td>\n",
       "      <td>118.42</td>\n",
       "      <td>240.00</td>\n",
       "      <td>0.37</td>\n",
       "      <td>0.51</td>\n",
       "    </tr>\n",
       "  </tbody>\n",
       "</table>\n",
       "<p>4284 rows × 64 columns</p>\n",
       "</div>"
      ],
      "text/plain": [
       "      Equity_Paid_Up  Networth  Capital_Employed  Total_Debt  Gross_Block  \\\n",
       "0               3.25      3.49              3.54        0.05         1.53   \n",
       "1               4.75      5.29              5.39        0.02         0.75   \n",
       "2              13.06     13.50             13.50        0.00         0.00   \n",
       "3              43.17    -60.79            -58.30        2.46        18.66   \n",
       "4               4.00      5.95             20.62       14.33         7.76   \n",
       "...              ...       ...               ...         ...          ...   \n",
       "4279            7.18     -0.69              0.72        1.39         8.18   \n",
       "4280            5.24     11.14             62.14       49.58        43.70   \n",
       "4281           10.33     -2.82             -2.34        0.00         1.71   \n",
       "4282           16.99    -82.68            317.22      180.83       169.77   \n",
       "4283            4.43     -9.03             15.78       19.87        11.15   \n",
       "\n",
       "      Net_Working_Capital  Current_Assets  Current_Liabilities_and_Provisions  \\\n",
       "0                    2.94            2.98                                0.05   \n",
       "1                    3.56            3.62                                0.06   \n",
       "2                   13.47           13.62                                0.15   \n",
       "3                  -84.10            7.69                               91.79   \n",
       "4                    7.38           22.22                               14.83   \n",
       "...                   ...             ...                                 ...   \n",
       "4279                -0.26            2.56                                2.82   \n",
       "4280                17.89           27.82                                9.92   \n",
       "4281                -4.41            0.23                                4.65   \n",
       "4282               151.52          285.80                              101.05   \n",
       "4283                 6.90           18.50                               11.59   \n",
       "\n",
       "      Total_Assets_by_Liabilities  Gross_Sales  ...  PBIDTM_perc[Latest]  \\\n",
       "0                            3.59         0.42  ...                40.00   \n",
       "1                            5.45         1.88  ...                -1.12   \n",
       "2                           13.65         0.12  ...                 1.60   \n",
       "3                           33.49         0.76  ...               -28.48   \n",
       "4                           35.45       142.80  ...                 4.29   \n",
       "...                           ...          ...  ...                  ...   \n",
       "4279                         3.54         4.26  ...                -4.61   \n",
       "4280                        72.06        31.12  ...                36.69   \n",
       "4281                         2.31         0.00  ...                 0.00   \n",
       "4282                       422.80       341.79  ...               -28.30   \n",
       "4283                        27.38         7.80  ...                -0.98   \n",
       "\n",
       "      PBITM_perc[Latest]  PBDTM_perc[Latest]  CPM_perc[Latest]  \\\n",
       "0                  30.00               35.27             28.48   \n",
       "1                  -6.16               -2.61             -2.61   \n",
       "2                   1.60                1.60              1.06   \n",
       "3                 -21.43              -21.16            -17.09   \n",
       "4                   3.99                3.12              2.10   \n",
       "...                  ...                 ...               ...   \n",
       "4279               -5.69               -4.91             -4.91   \n",
       "4280               24.85               26.85             25.15   \n",
       "4281                0.00                0.00              0.00   \n",
       "4282              -21.43              -21.16            -17.09   \n",
       "4283               -6.09               -5.63             -5.63   \n",
       "\n",
       "      APATM_perc[Latest]  Debtors_Velocity_Days  Creditors_Velocity_Days  \\\n",
       "0                  18.52                   0.00                     0.00   \n",
       "1                  -7.65                   8.00                    13.00   \n",
       "2                   1.06                 253.00                     0.00   \n",
       "3                 -11.12                 253.00                    15.00   \n",
       "4                   1.79                  53.00                    28.00   \n",
       "...                  ...                    ...                      ...   \n",
       "4279               -6.00                  46.88                    23.44   \n",
       "4280               15.00                  35.83                   103.58   \n",
       "4281                0.00                   0.00                     0.00   \n",
       "4282              -11.12                 253.00                   189.10   \n",
       "4283               -8.46                 224.57                   118.42   \n",
       "\n",
       "      Inventory_Velocity_Days  Value_of_Output_by_Total_Assets  \\\n",
       "0                        0.00                             0.11   \n",
       "1                        7.00                             0.90   \n",
       "2                      240.00                             0.46   \n",
       "3                       69.00                             0.02   \n",
       "4                        0.00                             2.79   \n",
       "...                       ...                              ...   \n",
       "4279                    46.88                             0.79   \n",
       "4280                   209.97                             0.23   \n",
       "4281                     0.00                             0.00   \n",
       "4282                    98.27                            -0.02   \n",
       "4283                   240.00                             0.37   \n",
       "\n",
       "      Value_of_Output_by_Gross_Block  \n",
       "0                               0.26  \n",
       "1                               4.12  \n",
       "2                               0.00  \n",
       "3                               0.06  \n",
       "4                              11.87  \n",
       "...                              ...  \n",
       "4279                            0.35  \n",
       "4280                            0.31  \n",
       "4281                            0.00  \n",
       "4282                           -0.12  \n",
       "4283                            0.51  \n",
       "\n",
       "[4284 rows x 64 columns]"
      ]
     },
     "execution_count": 71,
     "metadata": {},
     "output_type": "execute_result"
    }
   ],
   "source": [
    "X_res"
   ]
  },
  {
   "cell_type": "code",
   "execution_count": 72,
   "id": "2886b3a2",
   "metadata": {
    "id": "1b20f703"
   },
   "outputs": [
    {
     "data": {
      "text/plain": [
       "0       0\n",
       "1       0\n",
       "2       0\n",
       "3       1\n",
       "4       0\n",
       "       ..\n",
       "4279    1\n",
       "4280    1\n",
       "4281    1\n",
       "4282    1\n",
       "4283    1\n",
       "Name: default, Length: 4284, dtype: int32"
      ]
     },
     "execution_count": 72,
     "metadata": {},
     "output_type": "execute_result"
    }
   ],
   "source": [
    "y_res"
   ]
  }
 ],
 "metadata": {
  "colab": {
   "provenance": []
  },
  "kernelspec": {
   "display_name": "Python 3.9.13 64-bit (microsoft store)",
   "language": "python",
   "name": "python3"
  },
  "language_info": {
   "codemirror_mode": {
    "name": "ipython",
    "version": 3
   },
   "file_extension": ".py",
   "mimetype": "text/x-python",
   "name": "python",
   "nbconvert_exporter": "python",
   "pygments_lexer": "ipython3",
   "version": "3.9.13"
  },
  "vscode": {
   "interpreter": {
    "hash": "81aa396d7ed62602242c01b807f9762de13f9c3a404432573a99be8bc4dd23e0"
   }
  }
 },
 "nbformat": 4,
 "nbformat_minor": 5
}
